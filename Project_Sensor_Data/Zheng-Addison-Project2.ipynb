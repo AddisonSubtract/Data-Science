{
 "cells": [
  {
   "cell_type": "markdown",
   "id": "813176ec",
   "metadata": {},
   "source": [
    "# Notebook written by Addison Zheng\n",
    "## Introduction to Data Science - Project #1 - Sensor Data Preparation"
   ]
  },
  {
   "cell_type": "markdown",
   "id": "international-syndicate",
   "metadata": {},
   "source": [
    "### File Input/Output Functions\n",
    "\n",
    "You may find the following function useful to read the data files into lists.  Feel free to write your own routine instead if you choose. This function accepts a full path to a file and returns the file as a list of integers or floats. Make sure you use the appropriate parameters for each data file."
   ]
  },
  {
   "cell_type": "code",
   "execution_count": 2,
   "id": "suburban-windows",
   "metadata": {},
   "outputs": [],
   "source": [
    "def read_list_from_file(filespec, conversion=float):\n",
    "    \"\"\"Return a list with each line of the input file as an element.\"\"\"\n",
    "    with open(filespec) as f:\n",
    "        # \"read\" does not provide conversion to types; it returns strings, so we need to convert the data\n",
    "        lines = list(map(conversion, f.read().splitlines()))\n",
    "    return(lines)"
   ]
  },
  {
   "cell_type": "markdown",
   "id": "polar-spelling",
   "metadata": {},
   "source": [
    "## Problem Statement\n",
    "\n",
    "Vibranium is a very valuable element (at least in the Marvel universe).  A leading Vibranium producing country has recently discovered that it can effectively \"mine\" Vibrainium atoms from air.  One of the most skilled mining engineers has built prototype sensors for detecting Vibranium concentrations.\n",
    "\n",
    "The engineer has asked you to produce a predictor of Vibranium concentration (number of Vibranium atoms per billion air atoms) based upon air temperature in Celsius using preliminary data she has collected.\n",
    "\n",
    "Unfortunately, the sensors are prototypes.  As a result, the sensors are sometimes faulty.  You will have to adapt to the faulty data.  The sensor engineer, who clearly has significant domain expertise, will provide some guidance on dealing with sensor challenges."
   ]
  },
  {
   "cell_type": "markdown",
   "id": "respected-sister",
   "metadata": {},
   "source": [
    "## Acquiring Data\n",
    "\n",
    "The engineer has two files containing the sensor data.  One file, \"sensor.txt\" contains the sensor readings with a single reading per line in the file.\n",
    "\n",
    "The other file \"temperature.txt\" contains the Cesius temperature associated with the sensor reading.  \n",
    "Each line of the temperature file aligns with the corresponding line in the sensor file."
   ]
  },
  {
   "cell_type": "markdown",
   "id": "ad06a631",
   "metadata": {},
   "source": [
    "### <span style=\"color:red\">Task 1</span>\n",
    "\n",
    "* Read the sensor data into a list.  \n",
    "* Read the temperature values into another list. \n",
    "\n",
    "Insert cells into this notebook here to show your work (do this for all the tasks in this notebook).  \n",
    "\n",
    "If needed, use your friend, The Internet, to look for ways to read data into a list in Python."
   ]
  },
  {
   "cell_type": "code",
   "execution_count": 3,
   "id": "senior-brisbane",
   "metadata": {},
   "outputs": [
    {
     "name": "stdout",
     "output_type": "stream",
     "text": [
      "[-1808.   1664.4  1382.2  2320.4  1403.4  1766.   -808.8  1318.6 -1707.4\n",
      "  1171.2 -1326.6  1490.4 -2103.8  1025.   2103.4  1883.4  1428.4   899.2\n",
      "   899.    850.6  1054.8     0.   1801.6 -1554.2  1250.    861.4  2091.\n",
      "  1770.2  2159.8  1222.8  1793.2  1353.8  1833.6  1332.4   991.4  1243.\n",
      "  1879.6  1709.   1886.8  1201.4  1200.2  1400.4  1615.8  1412.6  1826.6\n",
      " -1916.2     0.   1605.   1532.8  1444.2  1693.4 -1652.4  1426.6  1573.2\n",
      "   921.4  1767.2  1753.8  1817.8 -1070.4  1428.8  1575.   1699.   1339.6\n",
      "  1379.   1491.8  1193.6  1252.2  1120.4  1363.   1238.8     0.   1525.4\n",
      "  1410.8  1635.8   884.6   726.   1532.8  1317.2  1040.8  1094.4  1135.8\n",
      "  2183.    995.6  1620.   1301.6  1018.4  1317.6  1533.4  1145.4  2009.8\n",
      "  1804.6  1492.2  1188.8  1356.6  1996.   1697.  -2055.8 -1943.2  1416.\n",
      "  1224.   1314.8     0.      0.   2082.   1740.8  1364.    904.8  1406.6\n",
      "  1586.   1851.8  1772.8  1052.6  1228.8  1080.4  1796.      0.    915.4\n",
      " -1325.8  1460.6  1848.2  1442.      0.   1203.6  2018.2  1448.2  1817.\n",
      "  2155.2  1177.8     0.   1039.2   899.6     0.   1835.4  1313.   1584.8\n",
      "  1030.2  1661.4  1677.4  1287.4  2099.4  1943.   1040.6  1261.8  1532.6\n",
      "  2000.4  1977.2  1217.   1493.6   670.6     0.   1275.8  2112.    755.\n",
      "  2420.   1402.6  1980.4  1992.6  1505.8  1222.8  1150.8  1637.6  1563.8\n",
      "  1627.6  1061.2     0.    978.   2231.6  1419.2   856.4  1695.6  1154.8\n",
      "  1792.6  1131.4     0.   2075.2  1732.2  1153.4  1169.6  1465.4 -1453.\n",
      "  2046.8  1316.   2161.2  1928.2  1520.2  1853.4  1891.6   915.2  1312.4\n",
      "     0.   1478.   1885.8  1315.   1711.4  1974.6     0.    784.8  1728.6\n",
      "  1714.6   798. ]\n",
      "[20, -13, -19, 27, -3, -5, -6, -12, 27, -14, 23, 27, 14, -15, 17, 7, -18, -19, -15, -7, -6, 12, 18, -19, 15, -8, 25, 21, 24, 14, 6, -6, 8, 17, -3, -20, 28, -10, 24, 7, 1, -3, -11, -7, 28, 1, -14, -15, 4, -14, 2, 2, 18, -4, -18, 26, 9, 14, -13, 4, -15, 15, -2, 20, 19, 3, 16, -8, 25, -16, -18, 22, -6, 29, -2, -15, -6, -14, 4, -3, 9, 20, 3, -10, 3, 2, -7, 22, -3, 24, 23, 21, -16, 18, 20, -10, 14, 26, -5, -10, 9, 4, -3, 20, 24, 15, -6, 23, 0, 29, 29, -17, -6, -18, 0, 5, -3, -16, -7, 16, 25, 0, -7, 21, 11, 5, 21, 9, -11, -4, -12, -5, 27, 15, 14, -4, 27, 17, 7, 17, 5, 3, -6, -12, 12, 11, -15, 28, -17, -13, -11, 20, -10, 30, 23, 7, 18, -16, 4, 4, 18, 9, 13, -4, 15, -20, 23, 26, -13, 23, 14, 28, -3, 29, 21, 1, -13, -2, 7, -10, 9, -20, 26, 26, -4, 12, 28, -9, 12, -14, 20, -1, 20, 12, 18, -8, -11, 3, 28, -10]\n"
     ]
    }
   ],
   "source": [
    "from numpy import loadtxt\n",
    "\n",
    "sensorData = []\n",
    "\n",
    "#load sensor data from txt file\n",
    "sensorData = loadtxt('sensor.txt', converters=float)\n",
    "\n",
    "print(sensorData)\n",
    "\n",
    "tempInt = []\n",
    "tempFloat = []\n",
    "\n",
    "#load temp data from txt file\n",
    "tempFloat = loadtxt('temperature.txt', converters=float)\n",
    "tempData = list(map(int, tempFloat))\n",
    "\n",
    "print(tempData)"
   ]
  },
  {
   "cell_type": "markdown",
   "id": "c53e813b",
   "metadata": {},
   "source": [
    "### <span style=\"color:red\">Task 2</span>\n",
    "\n",
    "* Write a Python function to compute and print the following descriptive statistics for an input list.\n",
    "    - count\n",
    "    - min \n",
    "    - max\n",
    "    - mean\n",
    "    - sum\n",
    "    - mode\n",
    "    - median\n",
    "    - population standard deviation\n",
    "* Call your descriptive statistics function to report individually on the sensor data and the temperature data."
   ]
  },
  {
   "cell_type": "code",
   "execution_count": 4,
   "id": "7f1ecd2a",
   "metadata": {},
   "outputs": [
    {
     "name": "stdout",
     "output_type": "stream",
     "text": [
      "Count is 200\n",
      "Min is -2103.8\n",
      "Max is 2420.0\n",
      "Mean is 1175.615\n",
      "Sum is 235123.000\n",
      "Mode is 0.0\n",
      "Median is 1380.6\n",
      "Population Standard Deviation is 898.361 \n",
      "\n",
      "Count is 200\n",
      "Min is -20\n",
      "Max is 30\n",
      "Mean is 5\n",
      "Sum is 1000.000\n",
      "Mode is 20\n",
      "Median is 4.0\n",
      "Population Standard Deviation is 14.867 \n",
      "\n"
     ]
    }
   ],
   "source": [
    "import statistics as stat\n",
    "\n",
    "def desStat(list):\n",
    "    #Count\n",
    "    listCount = len(list)\n",
    "    print(\"Count is\", listCount)\n",
    "    #Min\n",
    "    listMin = min(list)\n",
    "    print(\"Min is\", listMin)\n",
    "    #Max\n",
    "    listMax = max(list)\n",
    "    print(\"Max is\", listMax)\n",
    "    #Mean\n",
    "    listMean = stat.mean(list)\n",
    "    print(\"Mean is\", listMean)\n",
    "    #Sum\n",
    "    listSum = sum(list)\n",
    "    print(\"Sum is\", '%.3f'%listSum)\n",
    "    #Mode\n",
    "    listMode = stat.mode(list)\n",
    "    print(\"Mode is\", listMode)\n",
    "    #Median\n",
    "    listMedian = stat.median(list)\n",
    "    print(\"Median is\", listMedian)\n",
    "    #Population\n",
    "    listPop = stat.pstdev(list)\n",
    "    print(\"Population Standard Deviation is\", '%.3f'%listPop, '\\n')\n",
    "\n",
    "desStat(sensorData)\n",
    "desStat(tempData)"
   ]
  },
  {
   "cell_type": "markdown",
   "id": "e9375d79",
   "metadata": {},
   "source": [
    "### <span style=\"color:red\">Task 3</span>\n",
    "\n",
    "* Write a Python function to compute and print the frequency of each value in an input list. The function should accept a list of valued and return a dictionary of values mapped to frequencies.  This function should be reusable for different list of values.\n",
    "* Call your frequency function to report individually on the sensor data and the temperature data.\n",
    "\n",
    "Hint: See Counter example from the collections module from Chapter 6 in the book or the NumPy example from Chapter 5."
   ]
  },
  {
   "cell_type": "code",
   "execution_count": 5,
   "id": "cf73b114",
   "metadata": {},
   "outputs": [
    {
     "name": "stdout",
     "output_type": "stream",
     "text": [
      "Sensor Frequency is {-1808.0: 1, 1664.4: 1, 1382.2: 1, 2320.4: 1, 1403.4: 1, 1766.0: 1, -808.8: 1, 1318.6: 1, -1707.4: 1, 1171.2: 1, -1326.6: 1, 1490.4: 1, -2103.8: 1, 1025.0: 1, 2103.4: 1, 1883.4: 1, 1428.4: 1, 899.2: 1, 899.0: 1, 850.5999999999999: 1, 1054.8: 1, 0.0: 14, 1801.6: 1, -1554.2: 1, 1250.0: 1, 861.4000000000001: 1, 2091.0: 1, 1770.2: 1, 2159.8: 1, 1222.8: 2, 1793.2: 1, 1353.8: 1, 1833.6: 1, 1332.4: 1, 991.4000000000001: 1, 1243.0: 1, 1879.6: 1, 1709.0: 1, 1886.8: 1, 1201.4: 1, 1200.2: 1, 1400.4: 1, 1615.8: 1, 1412.6: 1, 1826.6: 1, -1916.2: 1, 1605.0: 1, 1532.8: 2, 1444.2: 1, 1693.4: 1, -1652.4: 1, 1426.6: 1, 1573.2: 1, 921.4000000000001: 1, 1767.2: 1, 1753.8: 1, 1817.8: 1, -1070.4: 1, 1428.8: 1, 1575.0: 1, 1699.0: 1, 1339.6: 1, 1379.0: 1, 1491.8: 1, 1193.6: 1, 1252.2: 1, 1120.4: 1, 1363.0: 1, 1238.8: 1, 1525.4: 1, 1410.8: 1, 1635.8: 1, 884.5999999999999: 1, 726.0: 1, 1317.2: 1, 1040.8: 1, 1094.4: 1, 1135.8: 1, 2183.0: 1, 995.5999999999999: 1, 1620.0: 1, 1301.6: 1, 1018.4000000000001: 1, 1317.6: 1, 1533.4: 1, 1145.4: 1, 2009.8: 1, 1804.6: 1, 1492.2: 1, 1188.8: 1, 1356.6: 1, 1996.0: 1, 1697.0: 1, -2055.8: 1, -1943.2: 1, 1416.0: 1, 1224.0: 1, 1314.8: 1, 2082.0: 1, 1740.8: 1, 1364.0: 1, 904.8: 1, 1406.6: 1, 1586.0: 1, 1851.8: 1, 1772.8: 1, 1052.6: 1, 1228.8: 1, 1080.4: 1, 1796.0: 1, 915.4000000000001: 1, -1325.8: 1, 1460.6: 1, 1848.2: 1, 1442.0: 1, 1203.6: 1, 2018.2: 1, 1448.2: 1, 1817.0: 1, 2155.2: 1, 1177.8: 1, 1039.2: 1, 899.5999999999999: 1, 1835.4: 1, 1313.0: 1, 1584.8: 1, 1030.2: 1, 1661.4: 1, 1677.4: 1, 1287.4: 1, 2099.4: 1, 1943.0: 1, 1040.6: 1, 1261.8: 1, 1532.6: 1, 2000.4: 1, 1977.2: 1, 1217.0: 1, 1493.6: 1, 670.5999999999999: 1, 1275.8: 1, 2112.0: 1, 755.0: 1, 2420.0: 1, 1402.6: 1, 1980.4: 1, 1992.6: 1, 1505.8: 1, 1150.8: 1, 1637.6: 1, 1563.8: 1, 1627.6: 1, 1061.2: 1, 978.0: 1, 2231.6: 1, 1419.2: 1, 856.4000000000001: 1, 1695.6: 1, 1154.8: 1, 1792.6: 1, 1131.4: 1, 2075.2: 1, 1732.2: 1, 1153.4: 1, 1169.6: 1, 1465.4: 1, -1453.0: 1, 2046.8: 1, 1316.0: 1, 2161.2: 1, 1928.2: 1, 1520.2: 1, 1853.4: 1, 1891.6: 1, 915.2: 1, 1312.4: 1, 1478.0: 1, 1885.8: 1, 1315.0: 1, 1711.4: 1, 1974.6: 1, 784.8: 1, 1728.6: 1, 1714.6: 1, 798.0: 1}\n",
      "Temperature Frequency is {20: 8, -13: 5, -19: 3, 27: 5, -3: 8, -5: 3, -6: 8, -12: 3, -14: 5, 23: 6, 14: 6, -15: 6, 17: 4, 7: 5, -18: 4, -7: 5, 12: 5, 18: 6, 15: 5, -8: 3, 25: 3, 21: 5, 24: 4, 6: 1, 8: 1, -20: 3, 28: 6, -10: 7, 1: 3, -11: 4, 4: 6, 2: 3, -4: 5, 26: 5, 9: 6, -2: 3, 19: 1, 3: 5, 16: 2, -16: 4, 22: 2, 29: 4, 0: 3, -17: 2, 5: 3, 11: 2, 30: 1, 13: 1, -9: 1, -1: 1}\n"
     ]
    }
   ],
   "source": [
    "def compFreq(list):\n",
    "    freqDict = {}\n",
    "    #for loop to check for duplicates\n",
    "    for i in list:\n",
    "        #if there is duplicate\n",
    "        if i  in freqDict:\n",
    "            freqDict[i] += 1\n",
    "        #else if there is not a duplicate\n",
    "        else:\n",
    "            freqDict[i] = 1     \n",
    "    return freqDict\n",
    "\n",
    "#get value from function\n",
    "sensorFreq = compFreq(sensorData)\n",
    "#get value from function\n",
    "tempFreq = compFreq(tempData)\n",
    "\n",
    "print(\"Sensor Frequency is\", sensorFreq)\n",
    "print(\"Temperature Frequency is\", tempFreq)"
   ]
  },
  {
   "cell_type": "markdown",
   "id": "organized-steps",
   "metadata": {},
   "source": [
    "## Visualizing Data\n",
    "\n",
    "Let's take a look at the raw data we acquired from the engineer.  Show the sensor and temperature data that we read from the files."
   ]
  },
  {
   "cell_type": "markdown",
   "id": "temporal-namibia",
   "metadata": {},
   "source": [
    "### <span style=\"color:red\">Task 4</span>\n",
    "\n",
    "* Write a Python function to draw a scatter plot (optional)  \n",
    "* Plot the sensor data using the temperature as the x-axis and the sensor value as the y-access.\n",
    "* Label the x-axis as \"Temperature\" and the y-access as \"Sensor\".\n",
    "* Make the title of your plot \"Sensor by Temperature (Raw Data)\".\n",
    "\n",
    "You may find it useful to look at the plot examples in the \"regression_example\" notebook in the project folder.\n"
   ]
  },
  {
   "cell_type": "code",
   "execution_count": 6,
   "id": "d2c44838",
   "metadata": {},
   "outputs": [
    {
     "data": {
      "image/png": "[encoded data removed]",
      "text/plain": [
       "<Figure size 1000x600 with 1 Axes>"
      ]
     },
     "metadata": {},
     "output_type": "display_data"
    }
   ],
   "source": [
    "import matplotlib.pyplot as plt\n",
    "import seaborn as sns\n",
    "import numpy as np\n",
    "\n",
    "# Visualize the data using scatter plot\n",
    "plt.figure(figsize=(10, 6))\n",
    "plt.scatter(x=tempData,y=sensorData)\n",
    "#label the axes \n",
    "plt.xlabel('Tempereature')\n",
    "plt.ylabel('Sensor')\n",
    "# set the title of the plot\n",
    "plt.title(\"Sensor by Temperature (Raw Data)\")\n",
    "#display the bar plot\n",
    "plt.show()"
   ]
  },
  {
   "cell_type": "markdown",
   "id": "different-radical",
   "metadata": {},
   "source": [
    "### <span style=\"color:red\">Task 5</span>\n",
    "\n",
    "* Plot the frequency of temperature values as a bar plot with an appropriate title. \n",
    "* Plot the frequency of sensor values as a bar plot with an appropriate title.\n",
    "\n",
    "You may find it useful to use your friend, The Interet, to look at the information about mapplotlib bar plots."
   ]
  },
  {
   "cell_type": "code",
   "execution_count": 7,
   "id": "d975cd05",
   "metadata": {},
   "outputs": [
    {
     "data": {
      "image/png": "[encoded data removed]",
      "text/plain": [
       "<Figure size 640x480 with 1 Axes>"
      ]
     },
     "metadata": {},
     "output_type": "display_data"
    }
   ],
   "source": [
    "#Frequency Graph\n",
    "values, frequencies = np.unique(tempData, return_counts=True)\n",
    "#create and display the bar plot\n",
    "plt.bar(values, frequencies, width = 0.4)\n",
    "#label the axes  \n",
    "plt.xlabel(\"Temperature\")\n",
    "plt.ylabel(\"Frequency\")\n",
    "# set the title of the plot\n",
    "plt.title(\"Frequencies of Temperature\")\n",
    "#display the bar plot\n",
    "plt.show()"
   ]
  },
  {
   "cell_type": "code",
   "execution_count": 21,
   "id": "ab29c278",
   "metadata": {},
   "outputs": [
    {
     "data": {
      "image/png": "[encoded data removed]",
      "text/plain": [
       "<Figure size 640x480 with 1 Axes>"
      ]
     },
     "metadata": {},
     "output_type": "display_data"
    }
   ],
   "source": [
    "#calculate the frequency of Sensor Data\n",
    "values2, frequencies2 = np.unique(sensorData, return_counts=True)\n",
    "\n",
    "#frequency Graph\n",
    "plt.bar(values2, frequencies2, width = 50)\n",
    "#label the axes\n",
    "plt.xlabel(\"Sensor Value\")\n",
    "plt.ylabel(\"Frequency\")\n",
    "#set the title of the plot\n",
    "plt.title(\"Frequencies of Sensor\")\n",
    "#display the bar plot\n",
    "plt.show()"
   ]
  },
  {
   "cell_type": "markdown",
   "id": "incomplete-radiation",
   "metadata": {},
   "source": [
    "## Preparing Data\n",
    "\n",
    "You noticed some unexpected values in the sensor readings.  You sought out the sensor engineer for some clarification.  She tells you in no uncertain terms that the sensors are prototypes and you should expect errors.\n",
    "\n",
    "She explains that the maximum valid sensor value is 2000 and the minimum valid value is 1000.  She also explains some other types of sensor errors (described below) and her recommendation on handling the problem.\n",
    "\n",
    "Three types of sensor errors:\n",
    "1.  Sometimes the sensor is too slow to capture a reading.  Missing values are represented as sensor values of 0.  Drop these readings.  There is no way to estimate the true value in this case.\n",
    "2.  There is a sensor bug that sometimes reports the sensor value as a negative value rather than the true positive value.  Replace these valids with the absolute value (positive value) of the reading.\n",
    "3.  At extreme upper and lower ranges of valid sensor values, sensors may report values below minimum and above maximum.  Replace these values with the valid min or max, as appropriate."
   ]
  },
  {
   "cell_type": "markdown",
   "id": "a0e77dde",
   "metadata": {},
   "source": [
    "### <span style=\"color:red\">Task 6</span>\n",
    "\n",
    "* Write a Python function to correct the sensor errors as guided by the sensor engineer's recommendations.  This function will take as input the temperature list and the sensor list and return two new lists (i.e., the \"cleaned\" temperature and sensor lists).  Don't destroy your copies of the \"raw\" lists and make sure you don't destry the integrity of your lists (remember that temperatures and sensor values are related)\n",
    "* You may want to test your function with some simple lists that you create by hand to test all of your edge cases.\n",
    "* Produce \"clean\" lists by calling your \"preparation\" function on the original temperature and sensor data."
   ]
  },
  {
   "cell_type": "code",
   "execution_count": 9,
   "id": "46bf5cd7",
   "metadata": {},
   "outputs": [
    {
     "name": "stdout",
     "output_type": "stream",
     "text": [
      "[20, -13, -19, 27, -3, -5, -6, -12, 27, -14, 23, 27, 14, -15, 17, 7, -18, -19, -15, -7, -6, 18, -19, 15, -8, 25, 21, 24, 14, 6, -6, 8, 17, -3, -20, 28, -10, 24, 7, 1, -3, -11, -7, 28, 1, -15, 4, -14, 2, 2, 18, -4, -18, 26, 9, 14, -13, 4, -15, 15, -2, 20, 19, 3, 16, -8, 25, -16, 22, -6, 29, -2, -15, -6, -14, 4, -3, 9, 20, 3, -10, 3, 2, -7, 22, -3, 24, 23, 21, -16, 18, 20, -10, 14, 26, -5, -10, 9, 20, 24, 15, -6, 23, 0, 29, 29, -17, -6, -18, 0, -3, -16, -7, 16, 25, -7, 21, 11, 5, 21, 9, -4, -12, 27, 15, 14, -4, 27, 17, 7, 17, 5, 3, -6, -12, 12, 11, -15, 28, -17, -11, 20, -10, 30, 23, 7, 18, -16, 4, 4, 18, 9, 13, -4, -20, 23, 26, -13, 23, 14, 28, -3, 21, 1, -13, -2, 7, -10, 9, -20, 26, 26, -4, 12, 28, -9, 12, 20, -1, 20, 12, 18, -11, 3, 28, -10]\n",
      "[1808.0, 1664.4, 1382.2, 2000, 1403.4, 1766.0, 1000, 1318.6, 1707.4, 1171.2, 1326.6, 1490.4, 2000, 1025.0, 2000, 1883.4, 1428.4, 1000, 1000, 1000, 1054.8, 1801.6, 1554.2, 1250.0, 1000, 2000, 1770.2, 2000, 1222.8, 1793.2, 1353.8, 1833.6, 1332.4, 1000, 1243.0, 1879.6, 1709.0, 1886.8, 1201.4, 1200.2, 1400.4, 1615.8, 1412.6, 1826.6, 1916.2, 1605.0, 1532.8, 1444.2, 1693.4, 1652.4, 1426.6, 1573.2, 1000, 1767.2, 1753.8, 1817.8, 1070.4, 1428.8, 1575.0, 1699.0, 1339.6, 1379.0, 1491.8, 1193.6, 1252.2, 1120.4, 1363.0, 1238.8, 1525.4, 1410.8, 1635.8, 1000, 1000, 1532.8, 1317.2, 1040.8, 1094.4, 1135.8, 2000, 1000, 1620.0, 1301.6, 1018.4000000000001, 1317.6, 1533.4, 1145.4, 2000, 1804.6, 1492.2, 1188.8, 1356.6, 1996.0, 1697.0, 2000, 1943.2, 1416.0, 1224.0, 1314.8, 2000, 1740.8, 1364.0, 1000, 1406.6, 1586.0, 1851.8, 1772.8, 1052.6, 1228.8, 1080.4, 1796.0, 1000, 1325.8, 1460.6, 1848.2, 1442.0, 1203.6, 2000, 1448.2, 1817.0, 2000, 1177.8, 1039.2, 1000, 1835.4, 1313.0, 1584.8, 1030.2, 1661.4, 1677.4, 1287.4, 2000, 1943.0, 1040.6, 1261.8, 1532.6, 2000, 1977.2, 1217.0, 1493.6, 1000, 1275.8, 2000, 1000, 2000, 1402.6, 1980.4, 1992.6, 1505.8, 1222.8, 1150.8, 1637.6, 1563.8, 1627.6, 1061.2, 1000, 2000, 1419.2, 1000, 1695.6, 1154.8, 1792.6, 1131.4, 2000, 1732.2, 1153.4, 1169.6, 1465.4, 1453.0, 2000, 1316.0, 2000, 1928.2, 1520.2, 1853.4, 1891.6, 1000, 1312.4, 1478.0, 1885.8, 1315.0, 1711.4, 1974.6, 1000, 1728.6, 1714.6, 1000]\n"
     ]
    }
   ],
   "source": [
    "def correctedList(temp, sensor):\n",
    "    cleanedTemp = []\n",
    "    cleanedSensor = []\n",
    "    #check if each item fits criteria\n",
    "    for i in range(len(sensor)):\n",
    "        if abs(sensor[i]) >= 1000 and abs(sensor[i]) <= 2000:\n",
    "            #adds to temp and sensor lists\n",
    "            cleanedTemp.append(temp[i])\n",
    "            cleanedSensor.append(abs(sensor[i]))\n",
    "        elif(abs(sensor[i]) < 1000 and sensor[i] != 0):\n",
    "            cleanedTemp.append(temp[i])\n",
    "            cleanedSensor.append(1000)\n",
    "        elif(abs(sensor[i]) > 2000):\n",
    "            cleanedTemp.append(temp[i])\n",
    "            cleanedSensor.append(2000)\n",
    "\n",
    "    return cleanedTemp, cleanedSensor\n",
    "\n",
    "cleanTemp = []\n",
    "cleanSensor = []\n",
    "\n",
    "#get value from function\n",
    "(cleanTemp, cleanSensor) = correctedList(tempData, sensorData)\n",
    "print(cleanTemp)\n",
    "print(cleanSensor)\n"
   ]
  },
  {
   "cell_type": "markdown",
   "id": "52ff87b5",
   "metadata": {},
   "source": [
    "### <span style=\"color:red\">Task 7</span>\n",
    "\n",
    "* Run your \"descriptive statistics\" and \"frequency\" functions on your clean temperature and sensor lists and compare them to the \"raw\" results."
   ]
  },
  {
   "cell_type": "code",
   "execution_count": 10,
   "id": "35286785",
   "metadata": {},
   "outputs": [
    {
     "name": "stdout",
     "output_type": "stream",
     "text": [
      "Count is 186\n",
      "Min is 1000\n",
      "Max is 2000\n",
      "Mean is 1488.3301075268816\n",
      "Sum is 276829.400\n",
      "Mode is 1000\n",
      "Median is 1456.8\n",
      "Population Standard Deviation is 331.566 \n",
      "\n",
      "Count is 186\n",
      "Min is -20\n",
      "Max is 30\n",
      "Mean is 5.489247311827957\n",
      "Sum is 1021.000\n",
      "Mode is 20\n",
      "Median is 4.5\n",
      "Population Standard Deviation is 14.891 \n",
      "\n"
     ]
    },
    {
     "data": {
      "text/plain": [
       "{20: 8,\n",
       " -13: 4,\n",
       " -19: 3,\n",
       " 27: 5,\n",
       " -3: 7,\n",
       " -5: 2,\n",
       " -6: 8,\n",
       " -12: 3,\n",
       " -14: 3,\n",
       " 23: 6,\n",
       " 14: 6,\n",
       " -15: 6,\n",
       " 17: 4,\n",
       " 7: 5,\n",
       " -18: 3,\n",
       " -7: 5,\n",
       " 18: 6,\n",
       " 15: 4,\n",
       " -8: 2,\n",
       " 25: 3,\n",
       " 21: 5,\n",
       " 24: 4,\n",
       " 6: 1,\n",
       " 8: 1,\n",
       " -20: 3,\n",
       " 28: 6,\n",
       " -10: 7,\n",
       " 1: 3,\n",
       " -11: 3,\n",
       " 4: 5,\n",
       " 2: 3,\n",
       " -4: 5,\n",
       " 26: 5,\n",
       " 9: 6,\n",
       " -2: 3,\n",
       " 19: 1,\n",
       " 3: 5,\n",
       " 16: 2,\n",
       " -16: 4,\n",
       " 22: 2,\n",
       " 29: 3,\n",
       " 0: 2,\n",
       " -17: 2,\n",
       " 11: 2,\n",
       " 5: 2,\n",
       " 12: 4,\n",
       " 30: 1,\n",
       " 13: 1,\n",
       " -9: 1,\n",
       " -1: 1}"
      ]
     },
     "execution_count": 10,
     "metadata": {},
     "output_type": "execute_result"
    }
   ],
   "source": [
    "#Cleaned Sensor data\n",
    "desStat(cleanSensor)\n",
    "compFreq(cleanSensor)\n",
    "\n",
    "#Clean Temp data\n",
    "desStat(cleanTemp)\n",
    "compFreq(cleanTemp)"
   ]
  },
  {
   "cell_type": "markdown",
   "id": "appreciated-ireland",
   "metadata": {},
   "source": [
    "### <span style=\"color:red\">Task 8</span>\n",
    "\n",
    "* Create a scatter plot using your prepared data. (Optional: use function that you wrote)\n",
    "* The titile for this plot should be \"Sensor by Temperature (Prepared Data)\"."
   ]
  },
  {
   "cell_type": "code",
   "execution_count": 11,
   "id": "a41f9f15",
   "metadata": {},
   "outputs": [
    {
     "data": {
      "image/png": "[encoded data removed]",
      "text/plain": [
       "<Figure size 1000x600 with 1 Axes>"
      ]
     },
     "metadata": {},
     "output_type": "display_data"
    }
   ],
   "source": [
    "# Visualize the data using scatter plot\n",
    "plt.figure(figsize=(10, 6))\n",
    "plt.scatter(x=cleanTemp,y=cleanSensor)\n",
    "#country_stats.plot(kind='scatter', x=\"GDP per capita\", y='Life satisfaction')\n",
    "plt.title(\"Sensor by Temperature (Prepared Data)\")\n",
    "#label the axes\n",
    "plt.xlabel('Tempereature')\n",
    "plt.ylabel('Sensor')\n",
    "#display the scatter plot\n",
    "plt.show()"
   ]
  },
  {
   "cell_type": "markdown",
   "id": "indian-slave",
   "metadata": {},
   "source": [
    "## Model Building\n",
    "\n",
    "After looking at the sensor plots, you decide a linear regression model may do a good job fitting the data.  Now, you need to build the model.\n",
    "\n",
    "You may find it useful to refer to the \"regression_example\" notebook for hints in building this model."
   ]
  },
  {
   "cell_type": "markdown",
   "id": "copyrighted-drain",
   "metadata": {},
   "source": [
    "### <span style=\"color:red\">Task 9</span>\n",
    "\n",
    "The scilearn-kit libraries require training data to be in a numpy \"array of arrays\".  See the referenced notebook above for hints on making that conversion.  \n",
    "\n",
    "* Create a \"training_X\" numpy array of arrays from your \"prepared\" temperature list. (Hint: use np.c_)\n",
    "* Create a \"training_y\" numpy array of arrays from your \"prepared\" sensor list. (Hint: use np.c_)"
   ]
  },
  {
   "cell_type": "code",
   "execution_count": 12,
   "id": "6891bfff",
   "metadata": {},
   "outputs": [
    {
     "name": "stdout",
     "output_type": "stream",
     "text": [
      "[[ 20]\n",
      " [-13]\n",
      " [-19]\n",
      " [ 27]\n",
      " [ -3]\n",
      " [ -5]\n",
      " [ -6]\n",
      " [-12]\n",
      " [ 27]\n",
      " [-14]\n",
      " [ 23]\n",
      " [ 27]\n",
      " [ 14]\n",
      " [-15]\n",
      " [ 17]\n",
      " [  7]\n",
      " [-18]\n",
      " [-19]\n",
      " [-15]\n",
      " [ -7]\n",
      " [ -6]\n",
      " [ 18]\n",
      " [-19]\n",
      " [ 15]\n",
      " [ -8]\n",
      " [ 25]\n",
      " [ 21]\n",
      " [ 24]\n",
      " [ 14]\n",
      " [  6]\n",
      " [ -6]\n",
      " [  8]\n",
      " [ 17]\n",
      " [ -3]\n",
      " [-20]\n",
      " [ 28]\n",
      " [-10]\n",
      " [ 24]\n",
      " [  7]\n",
      " [  1]\n",
      " [ -3]\n",
      " [-11]\n",
      " [ -7]\n",
      " [ 28]\n",
      " [  1]\n",
      " [-15]\n",
      " [  4]\n",
      " [-14]\n",
      " [  2]\n",
      " [  2]\n",
      " [ 18]\n",
      " [ -4]\n",
      " [-18]\n",
      " [ 26]\n",
      " [  9]\n",
      " [ 14]\n",
      " [-13]\n",
      " [  4]\n",
      " [-15]\n",
      " [ 15]\n",
      " [ -2]\n",
      " [ 20]\n",
      " [ 19]\n",
      " [  3]\n",
      " [ 16]\n",
      " [ -8]\n",
      " [ 25]\n",
      " [-16]\n",
      " [ 22]\n",
      " [ -6]\n",
      " [ 29]\n",
      " [ -2]\n",
      " [-15]\n",
      " [ -6]\n",
      " [-14]\n",
      " [  4]\n",
      " [ -3]\n",
      " [  9]\n",
      " [ 20]\n",
      " [  3]\n",
      " [-10]\n",
      " [  3]\n",
      " [  2]\n",
      " [ -7]\n",
      " [ 22]\n",
      " [ -3]\n",
      " [ 24]\n",
      " [ 23]\n",
      " [ 21]\n",
      " [-16]\n",
      " [ 18]\n",
      " [ 20]\n",
      " [-10]\n",
      " [ 14]\n",
      " [ 26]\n",
      " [ -5]\n",
      " [-10]\n",
      " [  9]\n",
      " [ 20]\n",
      " [ 24]\n",
      " [ 15]\n",
      " [ -6]\n",
      " [ 23]\n",
      " [  0]\n",
      " [ 29]\n",
      " [ 29]\n",
      " [-17]\n",
      " [ -6]\n",
      " [-18]\n",
      " [  0]\n",
      " [ -3]\n",
      " [-16]\n",
      " [ -7]\n",
      " [ 16]\n",
      " [ 25]\n",
      " [ -7]\n",
      " [ 21]\n",
      " [ 11]\n",
      " [  5]\n",
      " [ 21]\n",
      " [  9]\n",
      " [ -4]\n",
      " [-12]\n",
      " [ 27]\n",
      " [ 15]\n",
      " [ 14]\n",
      " [ -4]\n",
      " [ 27]\n",
      " [ 17]\n",
      " [  7]\n",
      " [ 17]\n",
      " [  5]\n",
      " [  3]\n",
      " [ -6]\n",
      " [-12]\n",
      " [ 12]\n",
      " [ 11]\n",
      " [-15]\n",
      " [ 28]\n",
      " [-17]\n",
      " [-11]\n",
      " [ 20]\n",
      " [-10]\n",
      " [ 30]\n",
      " [ 23]\n",
      " [  7]\n",
      " [ 18]\n",
      " [-16]\n",
      " [  4]\n",
      " [  4]\n",
      " [ 18]\n",
      " [  9]\n",
      " [ 13]\n",
      " [ -4]\n",
      " [-20]\n",
      " [ 23]\n",
      " [ 26]\n",
      " [-13]\n",
      " [ 23]\n",
      " [ 14]\n",
      " [ 28]\n",
      " [ -3]\n",
      " [ 21]\n",
      " [  1]\n",
      " [-13]\n",
      " [ -2]\n",
      " [  7]\n",
      " [-10]\n",
      " [  9]\n",
      " [-20]\n",
      " [ 26]\n",
      " [ 26]\n",
      " [ -4]\n",
      " [ 12]\n",
      " [ 28]\n",
      " [ -9]\n",
      " [ 12]\n",
      " [ 20]\n",
      " [ -1]\n",
      " [ 20]\n",
      " [ 12]\n",
      " [ 18]\n",
      " [-11]\n",
      " [  3]\n",
      " [ 28]\n",
      " [-10]] [[1808. ]\n",
      " [1664.4]\n",
      " [1382.2]\n",
      " [2000. ]\n",
      " [1403.4]\n",
      " [1766. ]\n",
      " [1000. ]\n",
      " [1318.6]\n",
      " [1707.4]\n",
      " [1171.2]\n",
      " [1326.6]\n",
      " [1490.4]\n",
      " [2000. ]\n",
      " [1025. ]\n",
      " [2000. ]\n",
      " [1883.4]\n",
      " [1428.4]\n",
      " [1000. ]\n",
      " [1000. ]\n",
      " [1000. ]\n",
      " [1054.8]\n",
      " [1801.6]\n",
      " [1554.2]\n",
      " [1250. ]\n",
      " [1000. ]\n",
      " [2000. ]\n",
      " [1770.2]\n",
      " [2000. ]\n",
      " [1222.8]\n",
      " [1793.2]\n",
      " [1353.8]\n",
      " [1833.6]\n",
      " [1332.4]\n",
      " [1000. ]\n",
      " [1243. ]\n",
      " [1879.6]\n",
      " [1709. ]\n",
      " [1886.8]\n",
      " [1201.4]\n",
      " [1200.2]\n",
      " [1400.4]\n",
      " [1615.8]\n",
      " [1412.6]\n",
      " [1826.6]\n",
      " [1916.2]\n",
      " [1605. ]\n",
      " [1532.8]\n",
      " [1444.2]\n",
      " [1693.4]\n",
      " [1652.4]\n",
      " [1426.6]\n",
      " [1573.2]\n",
      " [1000. ]\n",
      " [1767.2]\n",
      " [1753.8]\n",
      " [1817.8]\n",
      " [1070.4]\n",
      " [1428.8]\n",
      " [1575. ]\n",
      " [1699. ]\n",
      " [1339.6]\n",
      " [1379. ]\n",
      " [1491.8]\n",
      " [1193.6]\n",
      " [1252.2]\n",
      " [1120.4]\n",
      " [1363. ]\n",
      " [1238.8]\n",
      " [1525.4]\n",
      " [1410.8]\n",
      " [1635.8]\n",
      " [1000. ]\n",
      " [1000. ]\n",
      " [1532.8]\n",
      " [1317.2]\n",
      " [1040.8]\n",
      " [1094.4]\n",
      " [1135.8]\n",
      " [2000. ]\n",
      " [1000. ]\n",
      " [1620. ]\n",
      " [1301.6]\n",
      " [1018.4]\n",
      " [1317.6]\n",
      " [1533.4]\n",
      " [1145.4]\n",
      " [2000. ]\n",
      " [1804.6]\n",
      " [1492.2]\n",
      " [1188.8]\n",
      " [1356.6]\n",
      " [1996. ]\n",
      " [1697. ]\n",
      " [2000. ]\n",
      " [1943.2]\n",
      " [1416. ]\n",
      " [1224. ]\n",
      " [1314.8]\n",
      " [2000. ]\n",
      " [1740.8]\n",
      " [1364. ]\n",
      " [1000. ]\n",
      " [1406.6]\n",
      " [1586. ]\n",
      " [1851.8]\n",
      " [1772.8]\n",
      " [1052.6]\n",
      " [1228.8]\n",
      " [1080.4]\n",
      " [1796. ]\n",
      " [1000. ]\n",
      " [1325.8]\n",
      " [1460.6]\n",
      " [1848.2]\n",
      " [1442. ]\n",
      " [1203.6]\n",
      " [2000. ]\n",
      " [1448.2]\n",
      " [1817. ]\n",
      " [2000. ]\n",
      " [1177.8]\n",
      " [1039.2]\n",
      " [1000. ]\n",
      " [1835.4]\n",
      " [1313. ]\n",
      " [1584.8]\n",
      " [1030.2]\n",
      " [1661.4]\n",
      " [1677.4]\n",
      " [1287.4]\n",
      " [2000. ]\n",
      " [1943. ]\n",
      " [1040.6]\n",
      " [1261.8]\n",
      " [1532.6]\n",
      " [2000. ]\n",
      " [1977.2]\n",
      " [1217. ]\n",
      " [1493.6]\n",
      " [1000. ]\n",
      " [1275.8]\n",
      " [2000. ]\n",
      " [1000. ]\n",
      " [2000. ]\n",
      " [1402.6]\n",
      " [1980.4]\n",
      " [1992.6]\n",
      " [1505.8]\n",
      " [1222.8]\n",
      " [1150.8]\n",
      " [1637.6]\n",
      " [1563.8]\n",
      " [1627.6]\n",
      " [1061.2]\n",
      " [1000. ]\n",
      " [2000. ]\n",
      " [1419.2]\n",
      " [1000. ]\n",
      " [1695.6]\n",
      " [1154.8]\n",
      " [1792.6]\n",
      " [1131.4]\n",
      " [2000. ]\n",
      " [1732.2]\n",
      " [1153.4]\n",
      " [1169.6]\n",
      " [1465.4]\n",
      " [1453. ]\n",
      " [2000. ]\n",
      " [1316. ]\n",
      " [2000. ]\n",
      " [1928.2]\n",
      " [1520.2]\n",
      " [1853.4]\n",
      " [1891.6]\n",
      " [1000. ]\n",
      " [1312.4]\n",
      " [1478. ]\n",
      " [1885.8]\n",
      " [1315. ]\n",
      " [1711.4]\n",
      " [1974.6]\n",
      " [1000. ]\n",
      " [1728.6]\n",
      " [1714.6]\n",
      " [1000. ]]\n"
     ]
    }
   ],
   "source": [
    "training_X = np.c_[cleanTemp]\n",
    "training_Y = np.c_[cleanSensor]\n",
    "\n",
    "print(training_X,training_Y)"
   ]
  },
  {
   "cell_type": "markdown",
   "id": "animal-inspection",
   "metadata": {},
   "source": [
    "### <span style=\"color:red\">Task 10</span>\n",
    "* Create a linear model object\n",
    "\n",
    "See the referenced notebook above for hints.  "
   ]
  },
  {
   "cell_type": "code",
   "execution_count": 13,
   "id": "cffabc7c",
   "metadata": {},
   "outputs": [],
   "source": [
    "# Import useful libraries\n",
    "import os\n",
    "import numpy as np\n",
    "import pandas as pd\n",
    "import sklearn.linear_model\n",
    "\n",
    "X = np.c_[cleanTemp]\n",
    "y = np.c_[cleanSensor]\n",
    "\n",
    "# We are creating a model/estimator in sklearn and we decided to try a linear regression.\n",
    "model = sklearn.linear_model.LinearRegression()"
   ]
  },
  {
   "cell_type": "markdown",
   "id": "furnished-presentation",
   "metadata": {},
   "source": [
    "### <span style=\"color:red\">Task 11</span>\n",
    "* Train the linear model using your training temperature and sensor data.\n",
    "\n",
    "See the referenced notebook above for hints.  "
   ]
  },
  {
   "cell_type": "code",
   "execution_count": 14,
   "metadata": {},
   "outputs": [
    {
     "data": {
      "text/html": [
       "<style>#sk-container-id-1 {color: black;}#sk-container-id-1 pre{padding: 0;}#sk-container-id-1 div.sk-toggleable {background-color: white;}#sk-container-id-1 label.sk-toggleable__label {cursor: pointer;display: block;width: 100%;margin-bottom: 0;padding: 0.3em;box-sizing: border-box;text-align: center;}#sk-container-id-1 label.sk-toggleable__label-arrow:before {content: \"▸\";float: left;margin-right: 0.25em;color: #696969;}#sk-container-id-1 label.sk-toggleable__label-arrow:hover:before {color: black;}#sk-container-id-1 div.sk-estimator:hover label.sk-toggleable__label-arrow:before {color: black;}#sk-container-id-1 div.sk-toggleable__content {max-height: 0;max-width: 0;overflow: hidden;text-align: left;background-color: #f0f8ff;}#sk-container-id-1 div.sk-toggleable__content pre {margin: 0.2em;color: black;border-radius: 0.25em;background-color: #f0f8ff;}#sk-container-id-1 input.sk-toggleable__control:checked~div.sk-toggleable__content {max-height: 200px;max-width: 100%;overflow: auto;}#sk-container-id-1 input.sk-toggleable__control:checked~label.sk-toggleable__label-arrow:before {content: \"▾\";}#sk-container-id-1 div.sk-estimator input.sk-toggleable__control:checked~label.sk-toggleable__label {background-color: #d4ebff;}#sk-container-id-1 div.sk-label input.sk-toggleable__control:checked~label.sk-toggleable__label {background-color: #d4ebff;}#sk-container-id-1 input.sk-hidden--visually {border: 0;clip: rect(1px 1px 1px 1px);clip: rect(1px, 1px, 1px, 1px);height: 1px;margin: -1px;overflow: hidden;padding: 0;position: absolute;width: 1px;}#sk-container-id-1 div.sk-estimator {font-family: monospace;background-color: #f0f8ff;border: 1px dotted black;border-radius: 0.25em;box-sizing: border-box;margin-bottom: 0.5em;}#sk-container-id-1 div.sk-estimator:hover {background-color: #d4ebff;}#sk-container-id-1 div.sk-parallel-item::after {content: \"\";width: 100%;border-bottom: 1px solid gray;flex-grow: 1;}#sk-container-id-1 div.sk-label:hover label.sk-toggleable__label {background-color: #d4ebff;}#sk-container-id-1 div.sk-serial::before {content: \"\";position: absolute;border-left: 1px solid gray;box-sizing: border-box;top: 0;bottom: 0;left: 50%;z-index: 0;}#sk-container-id-1 div.sk-serial {display: flex;flex-direction: column;align-items: center;background-color: white;padding-right: 0.2em;padding-left: 0.2em;position: relative;}#sk-container-id-1 div.sk-item {position: relative;z-index: 1;}#sk-container-id-1 div.sk-parallel {display: flex;align-items: stretch;justify-content: center;background-color: white;position: relative;}#sk-container-id-1 div.sk-item::before, #sk-container-id-1 div.sk-parallel-item::before {content: \"\";position: absolute;border-left: 1px solid gray;box-sizing: border-box;top: 0;bottom: 0;left: 50%;z-index: -1;}#sk-container-id-1 div.sk-parallel-item {display: flex;flex-direction: column;z-index: 1;position: relative;background-color: white;}#sk-container-id-1 div.sk-parallel-item:first-child::after {align-self: flex-end;width: 50%;}#sk-container-id-1 div.sk-parallel-item:last-child::after {align-self: flex-start;width: 50%;}#sk-container-id-1 div.sk-parallel-item:only-child::after {width: 0;}#sk-container-id-1 div.sk-dashed-wrapped {border: 1px dashed gray;margin: 0 0.4em 0.5em 0.4em;box-sizing: border-box;padding-bottom: 0.4em;background-color: white;}#sk-container-id-1 div.sk-label label {font-family: monospace;font-weight: bold;display: inline-block;line-height: 1.2em;}#sk-container-id-1 div.sk-label-container {text-align: center;}#sk-container-id-1 div.sk-container {/* jupyter's `normalize.less` sets `[hidden] { display: none; }` but bootstrap.min.css set `[hidden] { display: none !important; }` so we also need the `!important` here to be able to override the default hidden behavior on the sphinx rendered scikit-learn.org. See: https://github.com/scikit-learn/scikit-learn/issues/21755 */display: inline-block !important;position: relative;}#sk-container-id-1 div.sk-text-repr-fallback {display: none;}</style><div id=\"sk-container-id-1\" class=\"sk-top-container\"><div class=\"sk-text-repr-fallback\"><pre>LinearRegression()</pre><b>In a Jupyter environment, please rerun this cell to show the HTML representation or trust the notebook. <br />On GitHub, the HTML representation is unable to render, please try loading this page with nbviewer.org.</b></div><div class=\"sk-container\" hidden><div class=\"sk-item\"><div class=\"sk-estimator sk-toggleable\"><input class=\"sk-toggleable__control sk-hidden--visually\" id=\"sk-estimator-id-1\" type=\"checkbox\" checked><label for=\"sk-estimator-id-1\" class=\"sk-toggleable__label sk-toggleable__label-arrow\">LinearRegression</label><div class=\"sk-toggleable__content\"><pre>LinearRegression()</pre></div></div></div></div></div>"
      ],
      "text/plain": [
       "LinearRegression()"
      ]
     },
     "execution_count": 14,
     "metadata": {},
     "output_type": "execute_result"
    }
   ],
   "source": [
    "#Train the model\n",
    "model.fit(X, y)"
   ]
  },
  {
   "cell_type": "markdown",
   "id": "acknowledged-sight",
   "metadata": {},
   "source": [
    "### <span style=\"color:red\">Task 12</span>\n",
    "* Print the equation for the resulting prediction line.\n",
    "\n",
    "See the referenced notebook above for hints.  "
   ]
  },
  {
   "cell_type": "code",
   "execution_count": 15,
   "id": "4bcbebac",
   "metadata": {},
   "outputs": [
    {
     "name": "stdout",
     "output_type": "stream",
     "text": [
      "1413.9989483897027 13.54122977425588\n",
      "The prediction line is 1413.999 + ( 13.541 ) * x\n"
     ]
    }
   ],
   "source": [
    "# Show the computed parameters from the model \"fit\"\n",
    "# t0 is y intercept\n",
    "# t1 is slope/coefficient\n",
    "t0, t1 = model.intercept_[0], model.coef_[0][0]\n",
    "print(t0, t1)\n",
    "\n",
    "print(\"The prediction line is\", '%.3f'%t0, '+ (', '%.3f'%t1, ') * x')"
   ]
  },
  {
   "cell_type": "markdown",
   "id": "sitting-broadcast",
   "metadata": {},
   "source": [
    "### <span style=\"color:red\">Task 13</span>\n",
    "* Print a scatter plot of the prepared data with the predicted line superimposed on the data.\n",
    "\n",
    "See the referenced notebook above for hints.  "
   ]
  },
  {
   "cell_type": "code",
   "execution_count": 16,
   "id": "baa4c998",
   "metadata": {},
   "outputs": [
    {
     "data": {
      "image/png": "[encoded data removed]",
      "text/plain": [
       "<Figure size 1000x600 with 1 Axes>"
      ]
     },
     "metadata": {},
     "output_type": "display_data"
    }
   ],
   "source": [
    "# Visualize the data using scatter plot\n",
    "plt.figure(figsize=(10, 6))\n",
    "plt.scatter(x=cleanTemp,y=cleanSensor)\n",
    "plt.title(\"Sensor by Temperature (Prepared Data)\")\n",
    "plt.xlabel('Tempereature')\n",
    "plt.ylabel('Sensor')\n",
    "\n",
    "plt.axis([-30, 40, 900, 2100])\n",
    "X=np.linspace(-30, 40, 5)\n",
    "\n",
    "# plot the predicted line\n",
    "# Use the X values created by linspace and the predicted Y values to plot the regression line\n",
    "plt.plot(X, t0 + t1*X, c=\"r\")\n",
    "\n",
    "# print the parameters of the model\n",
    "plt.text(-25, 1900, r\"$\\theta_0 = 1440.3100$\", fontsize=14, color=\"r\")\n",
    "plt.text(-25, 1800, r\"$\\theta_1 = 8.487$\", fontsize=14, color=\"r\")\n",
    "\n",
    "plt.show()"
   ]
  },
  {
   "cell_type": "markdown",
   "id": "arabic-bedroom",
   "metadata": {},
   "source": [
    "## Model Usage\n",
    "\n",
    "Feeling exceptionally brave, you decide to demonstrate the predictions of your model to the sensor engineer."
   ]
  },
  {
   "cell_type": "markdown",
   "id": "living-construction",
   "metadata": {},
   "source": [
    "### <span style=\"color:red\">Task 14</span>\n",
    "* Demonstrate your predictor with a single input Celsius value of 5.\n",
    "* Demonstrate your predictor for the a list of input temperatures: -25, 5, 7, 12, 25\n",
    "\n",
    "Note that the input to the \"predict\" method requires a list of lists as input.  Also, the results are returned as list of lists.\n",
    "\n",
    "See the referenced notebook above for hints.  "
   ]
  },
  {
   "cell_type": "code",
   "execution_count": 17,
   "id": "07338c70",
   "metadata": {},
   "outputs": [
    {
     "name": "stdout",
     "output_type": "stream",
     "text": [
      "Celsius value = 5C\n",
      "Predicted Celsius value = 1481.705097260982C\n"
     ]
    }
   ],
   "source": [
    "celsiusValue = [[5]]\n",
    "print(f\"Celsius value = {celsiusValue[0][0]:,}C\")\n",
    "\n",
    "# The y result is the first entry in the first list\n",
    "celsiusPred = model.predict(celsiusValue)[0][0]\n",
    "print(f\"Predicted Celsius value = {celsiusPred}C\")"
   ]
  },
  {
   "cell_type": "markdown",
   "id": "grave-treasurer",
   "metadata": {},
   "source": [
    "## Results\n",
    "\n",
    "You need to report your results to the sensor engineer.  Most of your results are captured in the results above, but there is potentially more to do.\n"
   ]
  },
  {
   "cell_type": "markdown",
   "id": "lyric-folder",
   "metadata": {},
   "source": [
    "### <span style=\"color:red\">Task 15</span>\n",
    "\n",
    "* What do you suggest that you and the sensor engineer do to assess the quality of the predictions, perhaps including further actions to take?"
   ]
  },
  {
   "cell_type": "markdown",
   "id": "4f4929b6",
   "metadata": {},
   "source": [
    "I would suggest to the engineer, in order to assess the quality of the prediction to remove all of the outliers that are in the data as this will make sure the data won't be skewed. I would also recommend checking each temperature with the prediction values to ensure the data is accurate."
   ]
  },
  {
   "cell_type": "markdown",
   "id": "88daec14-4c9b-4100-ab98-559a06e673b5",
   "metadata": {},
   "source": [
    "<p style=\"font-size:120%;color:navy;background:linen;padding:10px;text-align:center\">&copy; Copyright 2022 by Michelle Talley <br> <br>You may not publish this notebook on any website or share it with anyone without explicit permission of the author. </p>\n"
   ]
  }
 ],
 "metadata": {
  "kernelspec": {
   "display_name": "Python 3 (ipykernel)",
   "language": "python",
   "name": "python3"
  },
  "language_info": {
   "codemirror_mode": {
    "name": "ipython",
    "version": 3
   },
   "file_extension": ".py",
   "mimetype": "text/x-python",
   "name": "python",
   "nbconvert_exporter": "python",
   "pygments_lexer": "ipython3",
   "version": "3.11.6"
  }
 },
 "nbformat": 4,
 "nbformat_minor": 5
}
