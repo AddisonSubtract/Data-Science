{
 "cells": [
  {
   "cell_type": "markdown",
   "id": "a55181f9-d714-49a2-b634-24846673d0a1",
   "metadata": {},
   "source": [
    "# Data Privacy and Data Anonymization"
   ]
  },
  {
   "cell_type": "markdown",
   "id": "1ac3a6f4-a088-4c3d-9336-79297ab891b7",
   "metadata": {},
   "source": [
    "Many data science problems and associated solutions are based upon data about individuals or groups of people.  As a result, data scientists often have access to data about people and that data often can be directly associated with a particular individual.  Individuals have legal and ethical rights concerning the protection of data about them.  Data scientists must be aware of those rights and take appropriate actions to protect the privacy of individuals and groups."
   ]
  },
  {
   "cell_type": "markdown",
   "id": "badd3018-5648-4f7d-adad-e0c6332a3188",
   "metadata": {},
   "source": [
    "Data often includes fields that can be used to directly identify individuals.  Such data is referred to as ***Personally Identifiable Information (PII).***"
   ]
  },
  {
   "cell_type": "markdown",
   "id": "dc419bdf-9897-421c-ac93-337db3003088",
   "metadata": {},
   "source": [
    "## Personally Identifiable Information (PII)"
   ]
  },
  {
   "cell_type": "markdown",
   "id": "cbf8437f-654d-4d88-8bce-d554843520e7",
   "metadata": {},
   "source": [
    "The definition of what data is PII is not clearly defined.  Different organizations have different guidelines and these guidelines change frequently.\n",
    "\n",
    "As an example, here is a description of PII from the US Department of Labor:\n",
    "\n",
    "> Any representation of information that permits the identity of an individual to whom the information applies to be reasonably inferred by either direct or indirect means. \n",
    ">\n",
    "> PII is defined as information that directly identifies an individual, e.g.:\n",
    "> - name and address\n",
    "> - social security number or other identifying number or code \n",
    "> - telephone number \n",
    "> - email address\n",
    "> \n",
    "> or information that indirectly identifies an individual, e.g.: \n",
    "> - data elements may include a combination of gender, race, birth date, geographic indicator, and other descriptors\n",
    ">\n",
    "> Additionally, information permitting the physical or online contacting of a specific individual is the same as personally identifiable information. This information can be maintained in either paper, electronic or other media.\n",
    ">\n",
    "> See [Guidance on Protection of Personally Identifiable Information](https://www.dol.gov/general/ppii) from the U.S. Department of Labor."
   ]
  },
  {
   "cell_type": "markdown",
   "id": "85a7f297-ecf2-41ef-8fd7-cbd6141b29ec",
   "metadata": {},
   "source": [
    "Here are some data items often considered PII because they can be used to ***directly*** identify an individual (see [What Is Personally Identifiable Information (PII)? Types and Examples](https://www.investopedia.com/terms/p/personally-identifiable-information-pii.asp) and the [NIST description of PII](https://csrc.nist.gov/glossary/term/personally_identifiable_information)):\n",
    "\n",
    "- Full name \n",
    "- Postal address \n",
    "- Government identifiers (e.g., Social Security Number (SSN), tax IDs, driver’s license, passport IDs)\n",
    "- Financial identifiers (e.g., credit/debit card numbers, account numbers)\n",
    "- Online communication identifiers (e.g., email address, social handles)\n",
    "- Account logins (e.g., website login names)\n",
    "- Biometric identifiers (e.g., fingerprints, DNA, facial recognition)\n",
    "\n",
    "More strict interpretations, such as that used in the [European Union General Data Protection Regulation (GDPR)](https://gdpr.eu/eu-gdpr-personal-data/), also include additional online identifiers such as:\n",
    "\n",
    "- Internet protocol (IP) address\n",
    "- Cookie IDs\n",
    "- RFIDs\n",
    "\n",
    "Different regions have different definitions and rules.  For example, the [California Consumer Protection Act (CCPA)](https://www.oag.ca.gov/privacy/ccpa) also includes precise geolocation as PII (or \"sensitive personal information\").\n",
    "\n",
    "In addition, the provision that individuals might be ***indirectly*** identified make other types of data potentially considered PII, such as:\n",
    "\n",
    "- Zip code\n",
    "- Race or ethnicity\n",
    "- Gender\n",
    "- Date of birth\n",
    "- Place of birth\n",
    "- Mother's maiden name\n",
    "- Religion\n",
    "\n",
    "Combinations of these fields (and others) might be used to \"indirectly\" identify an individual within a group, perhaps in combination with other \"side data\" held by an attacker.  The paper [\"Broken Promises of Privacy: Responding to the Surprising Failure of Anonymization\" by Paul Ohm](https://www.uclalawreview.org/pdf/57-6-3.pdf) gives some examples of \"indirect\" identification in the real world."
   ]
  },
  {
   "cell_type": "markdown",
   "id": "e784a5fc-92f2-463d-b46b-b91ee4f01d03",
   "metadata": {},
   "source": [
    "Since the definition of what constitutes PII continues to evolve and is somewhat subject to intepretation, in practice you will likely rely on guidance from your organization for legal requirements and best practices associated with handling PII.  "
   ]
  },
  {
   "cell_type": "markdown",
   "id": "7583550b-2eb2-4c7f-837d-68e73abc2730",
   "metadata": {},
   "source": [
    "## Protecting Medical Information\n",
    "\n",
    "Medical information has additional strict laws about data protection in addition to those associated with PII.\n",
    "\n",
    "The [Health Insurance Portability and Accountability Act of 1996 (HIPAA)](https://www.cdc.gov/phlp/publications/topic/hipaa.html) established a comprehensive set of rights and requirements associated with medical data.\n",
    "\n",
    "The U.S. Department of Health and Human Services provides information on the [rights of individuals under HIPAA](https://www.hhs.gov/hipaa/for-individuals/index.html)."
   ]
  },
  {
   "cell_type": "markdown",
   "id": "ea0a0599-46e3-4d43-b2ec-b73e02033ee2",
   "metadata": {},
   "source": [
    "The U.S. Department of Health and Human Services also provides a [Summary of the HIPAA Privacy Rule](https://www.hhs.gov/hipaa/for-professionals/privacy/laws-regulations/index.html) that identfies data elements covered by the rule.  A portion of that summary is below:\n",
    "\n",
    "> Protected Health Information. \n",
    "> \n",
    "> The Privacy Rule protects all \"individually identifiable health information\" held or transmitted by a covered entity or its business associate, in any form or media, whether electronic, paper, or oral. The Privacy Rule calls this information \"protected health information (PHI).\"12\n",
    "\"Individually identifiable health information\" is information, including demographic data, that relates to:\n",
    "> \n",
    "> - the individual's past, present or future physical or mental health or condition,\n",
    "> - the provision of health care to the individual, or\n",
    "> - the past, present, or future payment for the provision of health care to the individual,\n",
    "> \n",
    "> and that identifies the individual or for which there is a reasonable basis to believe it can be used to identify the individual. Individually identifiable health information includes many common identifiers (e.g., name, address, birth date, Social Security Number)."
   ]
  },
  {
   "cell_type": "markdown",
   "id": "e243d775-30d8-4e75-91bd-7db649073f52",
   "metadata": {},
   "source": [
    "## Data Anonymization or De-Identification"
   ]
  },
  {
   "cell_type": "markdown",
   "id": "de75aae0-895a-46b2-a84f-ac7d7e9d60b1",
   "metadata": {},
   "source": [
    "It is usually permissable to use and hold both PII and medical information provided that the data has been \"anonymized\" or \"de-identified.\"  \n",
    "\n",
    "Common techniques for anonymizing data include:\n",
    "\n",
    "- Dropping PII and other sensitive data\n",
    "- Masking (e.g., encoding, hashing, or encrypting data values)\n",
    "- Pseudonymization (e.g., substituting false identifiers for true identifiers)\n",
    "- Generalizing (e.g., changing specific values to ranges or range identifiers)\n",
    "- Perturbing (e.g., adding noise or slightly altering true values)\n",
    "- Shuffling (e.g., rearranging data record or column order)\n",
    "- Synthetic data (e.g., generate data that follows statistical characteristics of true data)\n",
    "\n",
    "\n",
    "Here are a few links to web resources discussing data anonymization:\n",
    "\n",
    "- https://en.wikipedia.org/wiki/Data_anonymization\n",
    "- https://www.imperva.com/learn/data-security/anonymization/\n",
    "- https://www.splunk.com/en_us/blog/learn/data-anonymization.html"
   ]
  },
  {
   "cell_type": "markdown",
   "id": "ae391b0f-ddc3-4e9c-a9f9-30aa7f7e11e4",
   "metadata": {},
   "source": [
    "### Limits of Synthetic Data\n",
    "\n",
    "Using synthetic data clearly limits the risks associated with individual, but this technique is only useful when the synthetic data is adequate for the task.  It is often difficult to generate synthetic data that realistically models data from the real world.\n",
    "\n",
    "However, for academic exercises this is a good strategy and the assignment associated with this topic uses data that was synthetically generated."
   ]
  },
  {
   "cell_type": "markdown",
   "id": "62bb475e-c483-46ee-8d56-6b6d6d8dd0a7",
   "metadata": {
    "tags": []
   },
   "source": [
    "## Limits of Other Anonymization Techniques\n",
    "\n",
    "**Pseudonymization** by substituting a false identifier for true identifiers is sometimes useful.  Unfortunately, it is often the case that it is both acceptable and needed to be able to re-identify data after the anonymized form has been processed.  The common technique to enable re-identification is to maintain a separate mapping of the pseudonymous identifier to the true identifier (i.e., a cross reference table).  This table is kept separately from the anonymized data, but since this table contains the mapping back to the \"identified\" world, it must be carefully protected from theft.\n",
    "\n",
    "**Generalizing** and **perturbing** data are often only applicable to less sensitive data where precise accuracy is not required and are often fairly weak protections.  Consider whether the knowledge that someone makes \\\\$72,342 per year is significantly more risky than knowing the person makes between \\\\$50,000 and \\\\$75,000.\n",
    "\n",
    "**Shuffling** column values is often fairly easy to unravel.  Shuffling rows (records) in a table or a file is sometimes a good idea.  For example, a data provider may know the order of the records (i.e., which record belongs with which person) in a file without including any PII fields or columns.  If we process that file, adding attributes, then return the file to the provider, the provider can easily re-identify the individuals associated with the data.   Randomizing the row/record order (e.g., sorting on an added random field) before returning the file to the provider can prevent this re-identification. "
   ]
  },
  {
   "cell_type": "markdown",
   "id": "c13fce35-cbe3-4a05-a65b-fa9e2b8fa5d2",
   "metadata": {},
   "source": [
    "As a result of these limitations, we are going to focus on only two general techniques for anonymization: \n",
    "1. Dropping data\n",
    "2. Masking data"
   ]
  },
  {
   "cell_type": "markdown",
   "id": "b35e0018-cf3e-40e0-9758-c7ba991c681e",
   "metadata": {},
   "source": [
    "Dropping data (usually columns, but sometimes rows) is straight-forward and we have covered how to do that in other lectures."
   ]
  },
  {
   "cell_type": "markdown",
   "id": "8de0ba43-e184-4d6a-92ec-3f1c6a0d82d9",
   "metadata": {},
   "source": [
    "Three are four common ways to mask data:\n",
    "\n",
    "- Encoding\n",
    "- Encrypting\n",
    "- Hashing\n",
    "- Salted Hashing"
   ]
  },
  {
   "cell_type": "markdown",
   "id": "85c6784b-5fe9-4206-b6d5-24047616f6cb",
   "metadata": {},
   "source": [
    "**Encoding** data means finding some scheme to transform the data in such a way that the original value is obscured, but that can be reversed to retrieve the original data.  An example of encoding might be a simple substitution code where letters are swapped from the original to the \"encoded\" value.  Unfortunately, it is difficult to devise encoding techniques that are not easily broken by a dedicated attacker, so we will not use this strategy."
   ]
  },
  {
   "cell_type": "markdown",
   "id": "d0ab3ec7-b81a-4bd9-af18-60f0957645e1",
   "metadata": {},
   "source": [
    "**Encrypting** data uses an encryption key to encrypt the original data into an encrypted form that can only be decrypted using a particular key.  Encryption algorithms use mathematical techniques to make it very hard for an attacker to break the encryption.  \n",
    "\n",
    "It is notoriously hard to make a truly effective encryption algorithm, but fortunately there are widely accepted algorithms and implementations we can use.\n",
    "\n",
    "The main challenge with encryption is that both parties in a transaction (sender and receiver) must carefully manage and protect the encryption/decryption keys so that they are not compromised.\n",
    "\n",
    "From an anonymization perspective, another potential problem with encrypting data is that the original data can be reproduced *directly* from the encrypted data if successfully decrypted (e.g., because the encryption keys are compromized).\n",
    "\n",
    "Still, encryption is a powerful form of data protection and you will often encrypt data, often at the file level, to protect data at rest (i.e., stored) or data during transmission.  This use of encryption is often in concert with other forms of masking discussed below."
   ]
  },
  {
   "cell_type": "markdown",
   "id": "e891a31c-cee0-43dc-9d6f-1d2f069fbd98",
   "metadata": {
    "tags": []
   },
   "source": [
    "**Hashing** data uses algorithms that perform a one-way transformation of input data into a different hashed output value.  The transformation is predictable, meaning you always get the same output value for the same input value.  Furthermore, the transformation is one-way, meaning that unlike encryption algorithms, there is no algorithm or mechanism to convert the hashed output value back into the original input data. It is possible for hashing algorithms to have *collisions* where two distinct input values to produce the same hashed output value.  Fortunately, much work has been done to produce hash algorithms that are sophisticated enough and generate long enough values that collisions are eliminated.  As with encryption algorithms, hash algorithms are readily available and we can use the algorithms from modules without coding the algorithms.\n",
    "\n",
    "A challenge with a hash is if the attacker also possesses some or all of the input values to be hashed, the attacker can independently compute the same hashes.  This would allow the attacker to match your hashed values with known values."
   ]
  },
  {
   "cell_type": "markdown",
   "id": "eb273131-113f-4421-87f9-3f2bf0e57093",
   "metadata": {},
   "source": [
    "**Salted Hashing** combines the ideas of a one-way hash with encryption keys.  Salted hash algorithms perform a one-way hash, but use a secret key, called a \"salt\", as part of the hash process.  Using this salt means that an attacker must not only have access to the original source data and hash algorithm, but also the salt value.  This makes it significantly harder for the attacker to compromise the anonymization scheme, so this will be our preferred mechanism for masking.  Of course, the salt values (like encryption keys) must be protected from compromise.  \n",
    "\n"
   ]
  },
  {
   "cell_type": "markdown",
   "id": "db803916-22a7-43f2-81f5-3eae053a5028",
   "metadata": {},
   "source": [
    "---\n",
    "---\n",
    "## PII Example\n",
    "\n",
    "There is a lab associated with this lecture on anonymizing a data file.  The examples here will be useful when working on the lab."
   ]
  },
  {
   "cell_type": "code",
   "execution_count": 1,
   "id": "a77e589f-d2e2-4bea-82c3-d50dbc191713",
   "metadata": {
    "tags": []
   },
   "outputs": [],
   "source": [
    "import pandas as pd\n",
    "import random\n",
    "import hashlib"
   ]
  },
  {
   "cell_type": "code",
   "execution_count": 2,
   "id": "32101722-d574-4941-85fd-43a98b7c2637",
   "metadata": {
    "tags": []
   },
   "outputs": [],
   "source": [
    "samplefile = 'pii_sample.csv'"
   ]
  },
  {
   "cell_type": "code",
   "execution_count": 3,
   "id": "58802e12-e5a4-4146-8be6-2c30c77a67ee",
   "metadata": {
    "tags": []
   },
   "outputs": [],
   "source": [
    "sample = pd.read_csv(samplefile)"
   ]
  },
  {
   "cell_type": "code",
   "execution_count": 4,
   "id": "571d4916-d030-428b-b922-1927d6aa42a1",
   "metadata": {
    "tags": []
   },
   "outputs": [
    {
     "data": {
      "text/html": [
       "<div>\n",
       "<style scoped>\n",
       "    .dataframe tbody tr th:only-of-type {\n",
       "        vertical-align: middle;\n",
       "    }\n",
       "\n",
       "    .dataframe tbody tr th {\n",
       "        vertical-align: top;\n",
       "    }\n",
       "\n",
       "    .dataframe thead th {\n",
       "        text-align: right;\n",
       "    }\n",
       "</style>\n",
       "<table border=\"1\" class=\"dataframe\">\n",
       "  <thead>\n",
       "    <tr style=\"text-align: right;\">\n",
       "      <th></th>\n",
       "      <th>name</th>\n",
       "      <th>street_address</th>\n",
       "      <th>city</th>\n",
       "      <th>state</th>\n",
       "      <th>zipcode</th>\n",
       "      <th>sex</th>\n",
       "      <th>username</th>\n",
       "      <th>purchases</th>\n",
       "    </tr>\n",
       "  </thead>\n",
       "  <tbody>\n",
       "    <tr>\n",
       "      <th>0</th>\n",
       "      <td>Daniel Jacobs</td>\n",
       "      <td>2286 Karen Track Apt. 009</td>\n",
       "      <td>Matthewfort</td>\n",
       "      <td>MI</td>\n",
       "      <td>10216</td>\n",
       "      <td>M</td>\n",
       "      <td>zbishop</td>\n",
       "      <td>13926.58</td>\n",
       "    </tr>\n",
       "    <tr>\n",
       "      <th>1</th>\n",
       "      <td>Gerald Barajas</td>\n",
       "      <td>539 Thomas Plaza</td>\n",
       "      <td>New Monica</td>\n",
       "      <td>PA</td>\n",
       "      <td>57349</td>\n",
       "      <td>M</td>\n",
       "      <td>sotomark</td>\n",
       "      <td>3206.79</td>\n",
       "    </tr>\n",
       "    <tr>\n",
       "      <th>2</th>\n",
       "      <td>Michael Fleming</td>\n",
       "      <td>1923 Maxwell Mount Suite 561</td>\n",
       "      <td>Morgantown</td>\n",
       "      <td>MA</td>\n",
       "      <td>7841</td>\n",
       "      <td>M</td>\n",
       "      <td>kirktrevor</td>\n",
       "      <td>5628.12</td>\n",
       "    </tr>\n",
       "    <tr>\n",
       "      <th>3</th>\n",
       "      <td>Veronica Russell</td>\n",
       "      <td>9267 Kiara Stream Suite 112</td>\n",
       "      <td>Edwardsmouth</td>\n",
       "      <td>IL</td>\n",
       "      <td>51943</td>\n",
       "      <td>F</td>\n",
       "      <td>vmoyer</td>\n",
       "      <td>6215.65</td>\n",
       "    </tr>\n",
       "    <tr>\n",
       "      <th>4</th>\n",
       "      <td>Robert Bautista</td>\n",
       "      <td>85716 Rice Turnpike</td>\n",
       "      <td>Anitamouth</td>\n",
       "      <td>WY</td>\n",
       "      <td>1379</td>\n",
       "      <td>M</td>\n",
       "      <td>sarahmcgee</td>\n",
       "      <td>8389.27</td>\n",
       "    </tr>\n",
       "    <tr>\n",
       "      <th>5</th>\n",
       "      <td>Peter Miller</td>\n",
       "      <td>7444 Jackson Flat Apt. 498</td>\n",
       "      <td>New Caroline</td>\n",
       "      <td>WY</td>\n",
       "      <td>76759</td>\n",
       "      <td>M</td>\n",
       "      <td>gsnyder</td>\n",
       "      <td>3411.65</td>\n",
       "    </tr>\n",
       "    <tr>\n",
       "      <th>6</th>\n",
       "      <td>Andrew Stevens</td>\n",
       "      <td>50794 Isaac Coves</td>\n",
       "      <td>New Richardland</td>\n",
       "      <td>KY</td>\n",
       "      <td>88180</td>\n",
       "      <td>M</td>\n",
       "      <td>traceyfisher</td>\n",
       "      <td>6756.17</td>\n",
       "    </tr>\n",
       "    <tr>\n",
       "      <th>7</th>\n",
       "      <td>Janice Oneal</td>\n",
       "      <td>036 Moore Underpass Apt. 051</td>\n",
       "      <td>South Sherriton</td>\n",
       "      <td>SC</td>\n",
       "      <td>56599</td>\n",
       "      <td>F</td>\n",
       "      <td>steven14</td>\n",
       "      <td>115.95</td>\n",
       "    </tr>\n",
       "    <tr>\n",
       "      <th>8</th>\n",
       "      <td>Steven Dennis</td>\n",
       "      <td>9347 Zachary Forest Apt. 188</td>\n",
       "      <td>Lake Samanthaville</td>\n",
       "      <td>UT</td>\n",
       "      <td>23162</td>\n",
       "      <td>M</td>\n",
       "      <td>andrewlewis</td>\n",
       "      <td>12412.68</td>\n",
       "    </tr>\n",
       "    <tr>\n",
       "      <th>9</th>\n",
       "      <td>Laura Smith</td>\n",
       "      <td>7568 Dunn Springs</td>\n",
       "      <td>Port Sherri</td>\n",
       "      <td>OR</td>\n",
       "      <td>80323</td>\n",
       "      <td>F</td>\n",
       "      <td>holdermike</td>\n",
       "      <td>5550.86</td>\n",
       "    </tr>\n",
       "  </tbody>\n",
       "</table>\n",
       "</div>"
      ],
      "text/plain": [
       "               name                street_address                city state  \\\n",
       "0     Daniel Jacobs     2286 Karen Track Apt. 009         Matthewfort    MI   \n",
       "1    Gerald Barajas              539 Thomas Plaza          New Monica    PA   \n",
       "2   Michael Fleming  1923 Maxwell Mount Suite 561          Morgantown    MA   \n",
       "3  Veronica Russell   9267 Kiara Stream Suite 112        Edwardsmouth    IL   \n",
       "4   Robert Bautista           85716 Rice Turnpike          Anitamouth    WY   \n",
       "5      Peter Miller    7444 Jackson Flat Apt. 498        New Caroline    WY   \n",
       "6    Andrew Stevens             50794 Isaac Coves     New Richardland    KY   \n",
       "7      Janice Oneal  036 Moore Underpass Apt. 051     South Sherriton    SC   \n",
       "8     Steven Dennis  9347 Zachary Forest Apt. 188  Lake Samanthaville    UT   \n",
       "9       Laura Smith             7568 Dunn Springs         Port Sherri    OR   \n",
       "\n",
       "   zipcode sex      username  purchases  \n",
       "0    10216   M       zbishop   13926.58  \n",
       "1    57349   M      sotomark    3206.79  \n",
       "2     7841   M    kirktrevor    5628.12  \n",
       "3    51943   F        vmoyer    6215.65  \n",
       "4     1379   M    sarahmcgee    8389.27  \n",
       "5    76759   M       gsnyder    3411.65  \n",
       "6    88180   M  traceyfisher    6756.17  \n",
       "7    56599   F      steven14     115.95  \n",
       "8    23162   M   andrewlewis   12412.68  \n",
       "9    80323   F    holdermike    5550.86  "
      ]
     },
     "execution_count": 4,
     "metadata": {},
     "output_type": "execute_result"
    }
   ],
   "source": [
    "sample"
   ]
  },
  {
   "cell_type": "markdown",
   "id": "b9d77b4d-14cf-4b99-bc3a-3c766a3a89fd",
   "metadata": {
    "tags": []
   },
   "source": [
    "## Augment the sample data\n",
    "\n",
    "Let's add some new columns with random non-PII data to our sample data.\n",
    "\n",
    "We are going to use `apply` to create values for these new columns."
   ]
  },
  {
   "cell_type": "markdown",
   "id": "df531156-e6fa-4997-bc9e-02e3e4d7ef6f",
   "metadata": {},
   "source": [
    "Using `apply` to create a column is straight-forward when using the contents of an existing column.  The value in the existing source column for each row is passed as the first parameter to the applied function. \n",
    "\n",
    "For example, our current data has `zipcode` as a numeric field, which leaves off the leading zeros on the zip.  Let's create a new column called `full zipcode` that is a string with appropriate leading zeros."
   ]
  },
  {
   "cell_type": "code",
   "execution_count": 5,
   "id": "a3a5c2ec-3f0d-4516-b3d2-ae8a72822f6f",
   "metadata": {
    "tags": []
   },
   "outputs": [],
   "source": [
    "sample['full zipcode'] = sample['zipcode'].apply(lambda z: f'{z:05d}')"
   ]
  },
  {
   "cell_type": "code",
   "execution_count": 6,
   "id": "1591bf33-caff-4cfb-8428-d8defd54278c",
   "metadata": {
    "tags": []
   },
   "outputs": [
    {
     "data": {
      "text/html": [
       "<div>\n",
       "<style scoped>\n",
       "    .dataframe tbody tr th:only-of-type {\n",
       "        vertical-align: middle;\n",
       "    }\n",
       "\n",
       "    .dataframe tbody tr th {\n",
       "        vertical-align: top;\n",
       "    }\n",
       "\n",
       "    .dataframe thead th {\n",
       "        text-align: right;\n",
       "    }\n",
       "</style>\n",
       "<table border=\"1\" class=\"dataframe\">\n",
       "  <thead>\n",
       "    <tr style=\"text-align: right;\">\n",
       "      <th></th>\n",
       "      <th>name</th>\n",
       "      <th>street_address</th>\n",
       "      <th>city</th>\n",
       "      <th>state</th>\n",
       "      <th>zipcode</th>\n",
       "      <th>sex</th>\n",
       "      <th>username</th>\n",
       "      <th>purchases</th>\n",
       "      <th>full zipcode</th>\n",
       "    </tr>\n",
       "  </thead>\n",
       "  <tbody>\n",
       "    <tr>\n",
       "      <th>0</th>\n",
       "      <td>Daniel Jacobs</td>\n",
       "      <td>2286 Karen Track Apt. 009</td>\n",
       "      <td>Matthewfort</td>\n",
       "      <td>MI</td>\n",
       "      <td>10216</td>\n",
       "      <td>M</td>\n",
       "      <td>zbishop</td>\n",
       "      <td>13926.58</td>\n",
       "      <td>10216</td>\n",
       "    </tr>\n",
       "    <tr>\n",
       "      <th>1</th>\n",
       "      <td>Gerald Barajas</td>\n",
       "      <td>539 Thomas Plaza</td>\n",
       "      <td>New Monica</td>\n",
       "      <td>PA</td>\n",
       "      <td>57349</td>\n",
       "      <td>M</td>\n",
       "      <td>sotomark</td>\n",
       "      <td>3206.79</td>\n",
       "      <td>57349</td>\n",
       "    </tr>\n",
       "    <tr>\n",
       "      <th>2</th>\n",
       "      <td>Michael Fleming</td>\n",
       "      <td>1923 Maxwell Mount Suite 561</td>\n",
       "      <td>Morgantown</td>\n",
       "      <td>MA</td>\n",
       "      <td>7841</td>\n",
       "      <td>M</td>\n",
       "      <td>kirktrevor</td>\n",
       "      <td>5628.12</td>\n",
       "      <td>07841</td>\n",
       "    </tr>\n",
       "    <tr>\n",
       "      <th>3</th>\n",
       "      <td>Veronica Russell</td>\n",
       "      <td>9267 Kiara Stream Suite 112</td>\n",
       "      <td>Edwardsmouth</td>\n",
       "      <td>IL</td>\n",
       "      <td>51943</td>\n",
       "      <td>F</td>\n",
       "      <td>vmoyer</td>\n",
       "      <td>6215.65</td>\n",
       "      <td>51943</td>\n",
       "    </tr>\n",
       "    <tr>\n",
       "      <th>4</th>\n",
       "      <td>Robert Bautista</td>\n",
       "      <td>85716 Rice Turnpike</td>\n",
       "      <td>Anitamouth</td>\n",
       "      <td>WY</td>\n",
       "      <td>1379</td>\n",
       "      <td>M</td>\n",
       "      <td>sarahmcgee</td>\n",
       "      <td>8389.27</td>\n",
       "      <td>01379</td>\n",
       "    </tr>\n",
       "    <tr>\n",
       "      <th>5</th>\n",
       "      <td>Peter Miller</td>\n",
       "      <td>7444 Jackson Flat Apt. 498</td>\n",
       "      <td>New Caroline</td>\n",
       "      <td>WY</td>\n",
       "      <td>76759</td>\n",
       "      <td>M</td>\n",
       "      <td>gsnyder</td>\n",
       "      <td>3411.65</td>\n",
       "      <td>76759</td>\n",
       "    </tr>\n",
       "    <tr>\n",
       "      <th>6</th>\n",
       "      <td>Andrew Stevens</td>\n",
       "      <td>50794 Isaac Coves</td>\n",
       "      <td>New Richardland</td>\n",
       "      <td>KY</td>\n",
       "      <td>88180</td>\n",
       "      <td>M</td>\n",
       "      <td>traceyfisher</td>\n",
       "      <td>6756.17</td>\n",
       "      <td>88180</td>\n",
       "    </tr>\n",
       "    <tr>\n",
       "      <th>7</th>\n",
       "      <td>Janice Oneal</td>\n",
       "      <td>036 Moore Underpass Apt. 051</td>\n",
       "      <td>South Sherriton</td>\n",
       "      <td>SC</td>\n",
       "      <td>56599</td>\n",
       "      <td>F</td>\n",
       "      <td>steven14</td>\n",
       "      <td>115.95</td>\n",
       "      <td>56599</td>\n",
       "    </tr>\n",
       "    <tr>\n",
       "      <th>8</th>\n",
       "      <td>Steven Dennis</td>\n",
       "      <td>9347 Zachary Forest Apt. 188</td>\n",
       "      <td>Lake Samanthaville</td>\n",
       "      <td>UT</td>\n",
       "      <td>23162</td>\n",
       "      <td>M</td>\n",
       "      <td>andrewlewis</td>\n",
       "      <td>12412.68</td>\n",
       "      <td>23162</td>\n",
       "    </tr>\n",
       "    <tr>\n",
       "      <th>9</th>\n",
       "      <td>Laura Smith</td>\n",
       "      <td>7568 Dunn Springs</td>\n",
       "      <td>Port Sherri</td>\n",
       "      <td>OR</td>\n",
       "      <td>80323</td>\n",
       "      <td>F</td>\n",
       "      <td>holdermike</td>\n",
       "      <td>5550.86</td>\n",
       "      <td>80323</td>\n",
       "    </tr>\n",
       "  </tbody>\n",
       "</table>\n",
       "</div>"
      ],
      "text/plain": [
       "               name                street_address                city state  \\\n",
       "0     Daniel Jacobs     2286 Karen Track Apt. 009         Matthewfort    MI   \n",
       "1    Gerald Barajas              539 Thomas Plaza          New Monica    PA   \n",
       "2   Michael Fleming  1923 Maxwell Mount Suite 561          Morgantown    MA   \n",
       "3  Veronica Russell   9267 Kiara Stream Suite 112        Edwardsmouth    IL   \n",
       "4   Robert Bautista           85716 Rice Turnpike          Anitamouth    WY   \n",
       "5      Peter Miller    7444 Jackson Flat Apt. 498        New Caroline    WY   \n",
       "6    Andrew Stevens             50794 Isaac Coves     New Richardland    KY   \n",
       "7      Janice Oneal  036 Moore Underpass Apt. 051     South Sherriton    SC   \n",
       "8     Steven Dennis  9347 Zachary Forest Apt. 188  Lake Samanthaville    UT   \n",
       "9       Laura Smith             7568 Dunn Springs         Port Sherri    OR   \n",
       "\n",
       "   zipcode sex      username  purchases full zipcode  \n",
       "0    10216   M       zbishop   13926.58        10216  \n",
       "1    57349   M      sotomark    3206.79        57349  \n",
       "2     7841   M    kirktrevor    5628.12        07841  \n",
       "3    51943   F        vmoyer    6215.65        51943  \n",
       "4     1379   M    sarahmcgee    8389.27        01379  \n",
       "5    76759   M       gsnyder    3411.65        76759  \n",
       "6    88180   M  traceyfisher    6756.17        88180  \n",
       "7    56599   F      steven14     115.95        56599  \n",
       "8    23162   M   andrewlewis   12412.68        23162  \n",
       "9    80323   F    holdermike    5550.86        80323  "
      ]
     },
     "execution_count": 6,
     "metadata": {},
     "output_type": "execute_result"
    }
   ],
   "source": [
    "sample"
   ]
  },
  {
   "cell_type": "markdown",
   "id": "add2eb04-80dc-43b3-b2ee-3bc55627fb5b",
   "metadata": {},
   "source": [
    "It is a bit trickier if you don't actually need the values from an existing column to create a new column.\n",
    "\n",
    "However, nothing says you must actually use the value of the existing column.  This means you can simply use one column as a \"dummy\" for invoking the function on each row."
   ]
  },
  {
   "cell_type": "code",
   "execution_count": 7,
   "id": "1b93f261-0588-4597-8eab-3bcdb2448f8c",
   "metadata": {},
   "outputs": [],
   "source": [
    "def get_random_int(x, low=0, high=20):\n",
    "    return random.randint(low, high)"
   ]
  },
  {
   "cell_type": "code",
   "execution_count": 8,
   "id": "7ca0912b-9b76-4f30-ad2d-da5605da65b7",
   "metadata": {},
   "outputs": [],
   "source": [
    "sample['store visits'] = sample['name'].apply(get_random_int)"
   ]
  },
  {
   "cell_type": "code",
   "execution_count": 9,
   "id": "a17e5b82-3f85-4830-8795-11907625a066",
   "metadata": {},
   "outputs": [],
   "source": [
    "sample['web visits'] = sample['name'].apply(get_random_int, high=100)"
   ]
  },
  {
   "cell_type": "code",
   "execution_count": 10,
   "id": "a2e09a6c-c00c-45fb-b54f-6bf6743cfa48",
   "metadata": {},
   "outputs": [],
   "source": [
    "sample['complaints'] = sample['name'].apply(get_random_int, high=5)"
   ]
  },
  {
   "cell_type": "code",
   "execution_count": 11,
   "id": "248dd313-ac8b-4a26-b3c6-0b464a444ad2",
   "metadata": {},
   "outputs": [
    {
     "data": {
      "text/html": [
       "<div>\n",
       "<style scoped>\n",
       "    .dataframe tbody tr th:only-of-type {\n",
       "        vertical-align: middle;\n",
       "    }\n",
       "\n",
       "    .dataframe tbody tr th {\n",
       "        vertical-align: top;\n",
       "    }\n",
       "\n",
       "    .dataframe thead th {\n",
       "        text-align: right;\n",
       "    }\n",
       "</style>\n",
       "<table border=\"1\" class=\"dataframe\">\n",
       "  <thead>\n",
       "    <tr style=\"text-align: right;\">\n",
       "      <th></th>\n",
       "      <th>name</th>\n",
       "      <th>street_address</th>\n",
       "      <th>city</th>\n",
       "      <th>state</th>\n",
       "      <th>zipcode</th>\n",
       "      <th>sex</th>\n",
       "      <th>username</th>\n",
       "      <th>purchases</th>\n",
       "      <th>full zipcode</th>\n",
       "      <th>store visits</th>\n",
       "      <th>web visits</th>\n",
       "      <th>complaints</th>\n",
       "    </tr>\n",
       "  </thead>\n",
       "  <tbody>\n",
       "    <tr>\n",
       "      <th>0</th>\n",
       "      <td>Daniel Jacobs</td>\n",
       "      <td>2286 Karen Track Apt. 009</td>\n",
       "      <td>Matthewfort</td>\n",
       "      <td>MI</td>\n",
       "      <td>10216</td>\n",
       "      <td>M</td>\n",
       "      <td>zbishop</td>\n",
       "      <td>13926.58</td>\n",
       "      <td>10216</td>\n",
       "      <td>6</td>\n",
       "      <td>26</td>\n",
       "      <td>4</td>\n",
       "    </tr>\n",
       "    <tr>\n",
       "      <th>1</th>\n",
       "      <td>Gerald Barajas</td>\n",
       "      <td>539 Thomas Plaza</td>\n",
       "      <td>New Monica</td>\n",
       "      <td>PA</td>\n",
       "      <td>57349</td>\n",
       "      <td>M</td>\n",
       "      <td>sotomark</td>\n",
       "      <td>3206.79</td>\n",
       "      <td>57349</td>\n",
       "      <td>6</td>\n",
       "      <td>69</td>\n",
       "      <td>0</td>\n",
       "    </tr>\n",
       "    <tr>\n",
       "      <th>2</th>\n",
       "      <td>Michael Fleming</td>\n",
       "      <td>1923 Maxwell Mount Suite 561</td>\n",
       "      <td>Morgantown</td>\n",
       "      <td>MA</td>\n",
       "      <td>7841</td>\n",
       "      <td>M</td>\n",
       "      <td>kirktrevor</td>\n",
       "      <td>5628.12</td>\n",
       "      <td>07841</td>\n",
       "      <td>16</td>\n",
       "      <td>71</td>\n",
       "      <td>4</td>\n",
       "    </tr>\n",
       "    <tr>\n",
       "      <th>3</th>\n",
       "      <td>Veronica Russell</td>\n",
       "      <td>9267 Kiara Stream Suite 112</td>\n",
       "      <td>Edwardsmouth</td>\n",
       "      <td>IL</td>\n",
       "      <td>51943</td>\n",
       "      <td>F</td>\n",
       "      <td>vmoyer</td>\n",
       "      <td>6215.65</td>\n",
       "      <td>51943</td>\n",
       "      <td>4</td>\n",
       "      <td>89</td>\n",
       "      <td>0</td>\n",
       "    </tr>\n",
       "    <tr>\n",
       "      <th>4</th>\n",
       "      <td>Robert Bautista</td>\n",
       "      <td>85716 Rice Turnpike</td>\n",
       "      <td>Anitamouth</td>\n",
       "      <td>WY</td>\n",
       "      <td>1379</td>\n",
       "      <td>M</td>\n",
       "      <td>sarahmcgee</td>\n",
       "      <td>8389.27</td>\n",
       "      <td>01379</td>\n",
       "      <td>8</td>\n",
       "      <td>96</td>\n",
       "      <td>1</td>\n",
       "    </tr>\n",
       "    <tr>\n",
       "      <th>5</th>\n",
       "      <td>Peter Miller</td>\n",
       "      <td>7444 Jackson Flat Apt. 498</td>\n",
       "      <td>New Caroline</td>\n",
       "      <td>WY</td>\n",
       "      <td>76759</td>\n",
       "      <td>M</td>\n",
       "      <td>gsnyder</td>\n",
       "      <td>3411.65</td>\n",
       "      <td>76759</td>\n",
       "      <td>11</td>\n",
       "      <td>29</td>\n",
       "      <td>3</td>\n",
       "    </tr>\n",
       "    <tr>\n",
       "      <th>6</th>\n",
       "      <td>Andrew Stevens</td>\n",
       "      <td>50794 Isaac Coves</td>\n",
       "      <td>New Richardland</td>\n",
       "      <td>KY</td>\n",
       "      <td>88180</td>\n",
       "      <td>M</td>\n",
       "      <td>traceyfisher</td>\n",
       "      <td>6756.17</td>\n",
       "      <td>88180</td>\n",
       "      <td>1</td>\n",
       "      <td>79</td>\n",
       "      <td>1</td>\n",
       "    </tr>\n",
       "    <tr>\n",
       "      <th>7</th>\n",
       "      <td>Janice Oneal</td>\n",
       "      <td>036 Moore Underpass Apt. 051</td>\n",
       "      <td>South Sherriton</td>\n",
       "      <td>SC</td>\n",
       "      <td>56599</td>\n",
       "      <td>F</td>\n",
       "      <td>steven14</td>\n",
       "      <td>115.95</td>\n",
       "      <td>56599</td>\n",
       "      <td>3</td>\n",
       "      <td>92</td>\n",
       "      <td>1</td>\n",
       "    </tr>\n",
       "    <tr>\n",
       "      <th>8</th>\n",
       "      <td>Steven Dennis</td>\n",
       "      <td>9347 Zachary Forest Apt. 188</td>\n",
       "      <td>Lake Samanthaville</td>\n",
       "      <td>UT</td>\n",
       "      <td>23162</td>\n",
       "      <td>M</td>\n",
       "      <td>andrewlewis</td>\n",
       "      <td>12412.68</td>\n",
       "      <td>23162</td>\n",
       "      <td>15</td>\n",
       "      <td>22</td>\n",
       "      <td>4</td>\n",
       "    </tr>\n",
       "    <tr>\n",
       "      <th>9</th>\n",
       "      <td>Laura Smith</td>\n",
       "      <td>7568 Dunn Springs</td>\n",
       "      <td>Port Sherri</td>\n",
       "      <td>OR</td>\n",
       "      <td>80323</td>\n",
       "      <td>F</td>\n",
       "      <td>holdermike</td>\n",
       "      <td>5550.86</td>\n",
       "      <td>80323</td>\n",
       "      <td>5</td>\n",
       "      <td>34</td>\n",
       "      <td>3</td>\n",
       "    </tr>\n",
       "  </tbody>\n",
       "</table>\n",
       "</div>"
      ],
      "text/plain": [
       "               name                street_address                city state  \\\n",
       "0     Daniel Jacobs     2286 Karen Track Apt. 009         Matthewfort    MI   \n",
       "1    Gerald Barajas              539 Thomas Plaza          New Monica    PA   \n",
       "2   Michael Fleming  1923 Maxwell Mount Suite 561          Morgantown    MA   \n",
       "3  Veronica Russell   9267 Kiara Stream Suite 112        Edwardsmouth    IL   \n",
       "4   Robert Bautista           85716 Rice Turnpike          Anitamouth    WY   \n",
       "5      Peter Miller    7444 Jackson Flat Apt. 498        New Caroline    WY   \n",
       "6    Andrew Stevens             50794 Isaac Coves     New Richardland    KY   \n",
       "7      Janice Oneal  036 Moore Underpass Apt. 051     South Sherriton    SC   \n",
       "8     Steven Dennis  9347 Zachary Forest Apt. 188  Lake Samanthaville    UT   \n",
       "9       Laura Smith             7568 Dunn Springs         Port Sherri    OR   \n",
       "\n",
       "   zipcode sex      username  purchases full zipcode  store visits  \\\n",
       "0    10216   M       zbishop   13926.58        10216             6   \n",
       "1    57349   M      sotomark    3206.79        57349             6   \n",
       "2     7841   M    kirktrevor    5628.12        07841            16   \n",
       "3    51943   F        vmoyer    6215.65        51943             4   \n",
       "4     1379   M    sarahmcgee    8389.27        01379             8   \n",
       "5    76759   M       gsnyder    3411.65        76759            11   \n",
       "6    88180   M  traceyfisher    6756.17        88180             1   \n",
       "7    56599   F      steven14     115.95        56599             3   \n",
       "8    23162   M   andrewlewis   12412.68        23162            15   \n",
       "9    80323   F    holdermike    5550.86        80323             5   \n",
       "\n",
       "   web visits  complaints  \n",
       "0          26           4  \n",
       "1          69           0  \n",
       "2          71           4  \n",
       "3          89           0  \n",
       "4          96           1  \n",
       "5          29           3  \n",
       "6          79           1  \n",
       "7          92           1  \n",
       "8          22           4  \n",
       "9          34           3  "
      ]
     },
     "execution_count": 11,
     "metadata": {},
     "output_type": "execute_result"
    }
   ],
   "source": [
    "sample"
   ]
  },
  {
   "cell_type": "markdown",
   "id": "fa79ce2b-d2ab-46e2-a7d2-f7f08cb18e40",
   "metadata": {},
   "source": [
    "## Column Cardinality Relative to Observations\n",
    "\n",
    "The **cardinality** of a column is the number of distinct values within the column.  Columns (or, more generally, a collection of columns used together) that have high cardinality (i.e., a lot of distinct values) may provide a hint whether that column could potentially be used to identify the individuals within a set of data.  If the column cardinality approaches the number of observations in the data, it may be prudent to consider whether or not the column may pose an identification risk.\n",
    "\n",
    "Note that some columns are inherently high cardinality, but cannot reasonably be considered a threat for direct re-identification. "
   ]
  },
  {
   "cell_type": "markdown",
   "id": "5063641c-f3b2-46dc-b083-cfdd12493b2c",
   "metadata": {},
   "source": [
    "Let's calculate the cardinality of columns in our sample data.\n",
    "\n",
    "The Series method `nunique` counts the unique values in a series, so it is pretty easy to get the cardinality for each column in a dataframe."
   ]
  },
  {
   "cell_type": "code",
   "execution_count": 12,
   "id": "cca344e9-742d-489b-a99a-65572442aab2",
   "metadata": {
    "tags": []
   },
   "outputs": [
    {
     "data": {
      "text/plain": [
       "name              10\n",
       "street_address    10\n",
       "city              10\n",
       "state              9\n",
       "zipcode           10\n",
       "sex                2\n",
       "username          10\n",
       "purchases         10\n",
       "full zipcode      10\n",
       "store visits       9\n",
       "web visits        10\n",
       "complaints         4\n",
       "dtype: int64"
      ]
     },
     "execution_count": 12,
     "metadata": {},
     "output_type": "execute_result"
    }
   ],
   "source": [
    "sample.apply(pd.Series.nunique)"
   ]
  },
  {
   "cell_type": "markdown",
   "id": "4f0548be-2c3b-40f3-a1df-09e90318980e",
   "metadata": {},
   "source": [
    "How many observations do we have?"
   ]
  },
  {
   "cell_type": "code",
   "execution_count": 13,
   "id": "2d22733b-b6c9-4afd-86c1-3f388d807c56",
   "metadata": {},
   "outputs": [
    {
     "name": "stdout",
     "output_type": "stream",
     "text": [
      "There are 10 observations.\n"
     ]
    }
   ],
   "source": [
    "print(f'There are {sample.shape[0]} observations.')"
   ]
  },
  {
   "cell_type": "markdown",
   "id": "3be299f8-9114-48a3-9ad8-9ebc75fc854b",
   "metadata": {},
   "source": [
    "Which columns appear to pose a risk and which do not?\n",
    "\n",
    "Remember, high cardinality might be an expected result and not pose a risk."
   ]
  },
  {
   "cell_type": "markdown",
   "id": "8a595e02-75f3-4a13-8e89-46dd1f14eb60",
   "metadata": {},
   "source": [
    "Let's just look at the name and address components."
   ]
  },
  {
   "cell_type": "code",
   "execution_count": 14,
   "id": "5055b0f2-ebdd-4914-8b50-7bda435cf2f0",
   "metadata": {},
   "outputs": [],
   "source": [
    "cols = ['name', 'street_address', 'city', 'state', 'full zipcode']"
   ]
  },
  {
   "cell_type": "code",
   "execution_count": 15,
   "id": "0424e43e-362f-4012-bb72-82216d9aebee",
   "metadata": {},
   "outputs": [
    {
     "data": {
      "text/plain": [
       "name              10\n",
       "street_address    10\n",
       "city              10\n",
       "state              9\n",
       "full zipcode      10\n",
       "dtype: int64"
      ]
     },
     "execution_count": 15,
     "metadata": {},
     "output_type": "execute_result"
    }
   ],
   "source": [
    "sample[cols].apply(pd.Series.nunique)"
   ]
  },
  {
   "cell_type": "markdown",
   "id": "67c83780-1068-40ad-a8f6-0f1cd523b17d",
   "metadata": {},
   "source": [
    "The cardinality of each of the fields above doesn't really tell us if the particular name and address combinations (i.e., all the components together) are unique in the data.  Let's put them together."
   ]
  },
  {
   "cell_type": "code",
   "execution_count": 16,
   "id": "4af3a0d1-a62a-49d2-9099-cb9535fc0a06",
   "metadata": {
    "tags": []
   },
   "outputs": [],
   "source": [
    "full_name_addr = sample[cols].apply(lambda row: ' '.join(row.values.astype(str)), axis=1)"
   ]
  },
  {
   "cell_type": "markdown",
   "id": "9442f4ea-1ee3-4bc3-ace7-442689855196",
   "metadata": {},
   "source": [
    "The full name and address are too wide for the default column display, so let's remove the limit."
   ]
  },
  {
   "cell_type": "code",
   "execution_count": 17,
   "id": "832aaebd-b1bf-46ab-98ab-cbc56153b475",
   "metadata": {},
   "outputs": [],
   "source": [
    "pd.set_option('display.max_colwidth', None)"
   ]
  },
  {
   "cell_type": "code",
   "execution_count": 18,
   "id": "6632e502-fa9f-45f5-a2f7-25b889dae9c3",
   "metadata": {},
   "outputs": [
    {
     "data": {
      "text/plain": [
       "0              Daniel Jacobs 2286 Karen Track Apt. 009 Matthewfort MI 10216\n",
       "1                       Gerald Barajas 539 Thomas Plaza New Monica PA 57349\n",
       "2          Michael Fleming 1923 Maxwell Mount Suite 561 Morgantown MA 07841\n",
       "3        Veronica Russell 9267 Kiara Stream Suite 112 Edwardsmouth IL 51943\n",
       "4                   Robert Bautista 85716 Rice Turnpike Anitamouth WY 01379\n",
       "5             Peter Miller 7444 Jackson Flat Apt. 498 New Caroline WY 76759\n",
       "6                 Andrew Stevens 50794 Isaac Coves New Richardland KY 88180\n",
       "7        Janice Oneal 036 Moore Underpass Apt. 051 South Sherriton SC 56599\n",
       "8    Steven Dennis 9347 Zachary Forest Apt. 188 Lake Samanthaville UT 23162\n",
       "9                        Laura Smith 7568 Dunn Springs Port Sherri OR 80323\n",
       "dtype: object"
      ]
     },
     "execution_count": 18,
     "metadata": {},
     "output_type": "execute_result"
    }
   ],
   "source": [
    "full_name_addr"
   ]
  },
  {
   "cell_type": "markdown",
   "id": "e8a47cad-a77b-4251-a73f-1cf7789617f8",
   "metadata": {},
   "source": [
    "Restore the default column display width."
   ]
  },
  {
   "cell_type": "code",
   "execution_count": 19,
   "id": "70c1b60f-0e92-4213-8c5a-a747adfaad1d",
   "metadata": {},
   "outputs": [],
   "source": [
    "pd.reset_option('display.max_colwidth')"
   ]
  },
  {
   "cell_type": "code",
   "execution_count": 20,
   "id": "87149694-f510-4fdf-b4f6-aa5a63864a50",
   "metadata": {},
   "outputs": [
    {
     "data": {
      "text/plain": [
       "10"
      ]
     },
     "execution_count": 20,
     "metadata": {},
     "output_type": "execute_result"
    }
   ],
   "source": [
    "full_name_addr.nunique()"
   ]
  },
  {
   "cell_type": "markdown",
   "id": "c1975222-ccc5-4e1b-9a35-934ec4b1a84a",
   "metadata": {},
   "source": [
    "So, the name and address components taken as a unit are different for every observation.\n",
    "\n",
    "Of course, we already knew that name and address is perhaps the best known form of PII."
   ]
  },
  {
   "cell_type": "markdown",
   "id": "727475ad-5e08-4033-8376-b6fc769b85c9",
   "metadata": {},
   "source": [
    "---\n",
    "## Masking Data with Secure Hashes\n",
    "\n",
    "The `hashlib` module has implementations of many secure hashes. \n",
    "\n",
    "See: https://docs.python.org/3/library/hashlib.html"
   ]
  },
  {
   "cell_type": "markdown",
   "id": "6b3bf4b4-88c1-42b7-8614-4f6588357f0b",
   "metadata": {
    "tags": []
   },
   "source": [
    "As examples, let's generate some different kinds of hashes on some sample data."
   ]
  },
  {
   "cell_type": "code",
   "execution_count": 21,
   "id": "335e4571-8b6f-4912-89e3-ac31be0276cc",
   "metadata": {
    "tags": []
   },
   "outputs": [
    {
     "data": {
      "text/plain": [
       "'zbishop'"
      ]
     },
     "execution_count": 21,
     "metadata": {},
     "output_type": "execute_result"
    }
   ],
   "source": [
    "sample_user = sample.loc[0, 'username']\n",
    "sample_user"
   ]
  },
  {
   "cell_type": "markdown",
   "id": "5214133a-d120-4fe0-a7f0-486b368bafdb",
   "metadata": {},
   "source": [
    "### Unsalted Hashes"
   ]
  },
  {
   "cell_type": "markdown",
   "id": "cca85edb-b03b-4212-92f4-8873d611623b",
   "metadata": {
    "tags": []
   },
   "source": [
    "Generate an MD5 of the sample username."
   ]
  },
  {
   "cell_type": "code",
   "execution_count": 22,
   "id": "2e53760d-2de9-4ee0-ad45-c58b8c5d5ea9",
   "metadata": {},
   "outputs": [
    {
     "ename": "TypeError",
     "evalue": "Strings must be encoded before hashing",
     "output_type": "error",
     "traceback": [
      "\u001b[0;31m---------------------------------------------------------------------------\u001b[0m",
      "\u001b[0;31mTypeError\u001b[0m                                 Traceback (most recent call last)",
      "Cell \u001b[0;32mIn[22], line 1\u001b[0m\n\u001b[0;32m----> 1\u001b[0m hashlib\u001b[38;5;241m.\u001b[39mmd5(sample_user)\u001b[38;5;241m.\u001b[39mhexdigest()\n",
      "\u001b[0;31mTypeError\u001b[0m: Strings must be encoded before hashing"
     ]
    }
   ],
   "source": [
    "hashlib.md5(sample_user).hexdigest()"
   ]
  },
  {
   "cell_type": "markdown",
   "id": "7814c266-1da2-4834-9f30-d3b98ff7337e",
   "metadata": {},
   "source": [
    "What happened here?"
   ]
  },
  {
   "cell_type": "markdown",
   "id": "6e0b9df9-8058-4b0d-a001-37d9d6cc62b7",
   "metadata": {},
   "source": [
    "Strings (actually, `str`) are a type in Python, not just an array of bytes.  Bytes are a distinct type (`byte`) in Python.   Depending upon the encoding, characters in a string are not necessarily stored as a single byte, so storing in byte format assures an array of bytes.\n",
    "\n",
    "The hashing methods expect byte-type arrays as input, not strings.\n",
    "\n",
    "The `encode()` function converts a Python string type to a byte type.  We can use that to invoke the hash method."
   ]
  },
  {
   "cell_type": "code",
   "execution_count": null,
   "id": "d2a4782b-fcfc-4b71-be73-1fe9ade00f01",
   "metadata": {},
   "outputs": [],
   "source": [
    "hashlib.md5(sample_user.encode()).hexdigest()"
   ]
  },
  {
   "cell_type": "code",
   "execution_count": null,
   "id": "9ca0a872-9e54-446f-9e3e-7c6ee383f242",
   "metadata": {},
   "outputs": [],
   "source": [
    "h = hashlib.md5(sample_user.encode()).hexdigest()"
   ]
  },
  {
   "cell_type": "markdown",
   "id": "a349f908-a65c-4f03-a311-5d800e8492e5",
   "metadata": {},
   "source": [
    "The MD5 method produces a 128 bit value.  That translates to 128 bits / 8 bits per byte = 16 byte value.\n",
    "\n",
    "Hex encoding the value produces two hex characters per byte, so the hex encoding is 32 bytes long."
   ]
  },
  {
   "cell_type": "code",
   "execution_count": null,
   "id": "8832bd9f-717f-43ef-b14f-eb9ed2d30df8",
   "metadata": {},
   "outputs": [],
   "source": [
    "len(h)"
   ]
  },
  {
   "cell_type": "markdown",
   "id": "492062a1-979a-4e24-b1af-cc88b0d62a13",
   "metadata": {},
   "source": [
    "Longer hashes are considered more secure and have few (or no) collisions."
   ]
  },
  {
   "cell_type": "code",
   "execution_count": null,
   "id": "48cd32b7-ca0f-4745-83ef-69108301af09",
   "metadata": {},
   "outputs": [],
   "source": [
    "h = hashlib.sha256(sample_user.encode()).hexdigest()"
   ]
  },
  {
   "cell_type": "code",
   "execution_count": null,
   "id": "5da5b2b8-fb66-475f-a89d-aa129a9fc684",
   "metadata": {},
   "outputs": [],
   "source": [
    "len(h)"
   ]
  },
  {
   "cell_type": "code",
   "execution_count": null,
   "id": "8c26788e-6ea6-4be8-a798-383bbb9335fe",
   "metadata": {},
   "outputs": [],
   "source": [
    "h = hashlib.sha512(sample_user.encode()).hexdigest()"
   ]
  },
  {
   "cell_type": "code",
   "execution_count": null,
   "id": "a7013c3a-e92b-4831-8b5f-f17172293e1f",
   "metadata": {},
   "outputs": [],
   "source": [
    "len(h)"
   ]
  },
  {
   "cell_type": "markdown",
   "id": "8809d401-c43c-4344-a5ed-aeecafbe8ba0",
   "metadata": {},
   "source": [
    "### Salted Hash"
   ]
  },
  {
   "cell_type": "markdown",
   "id": "169a3be6-1ba7-4abd-a89b-8c1d49e03aef",
   "metadata": {},
   "source": [
    "The hashes above (\"unsalted\") are not reversable (i.e., one-way), but the same values can be independently generated by two parties if the two parties each have access to the same inputs.  For \"well known\" fields, such as email addresses, this is a problem since the data values are widely disseminated throughout the world.  This means that adversaries with access to this well known data could independently match the hash to the original value, thwarting our attempts at anonymization."
   ]
  },
  {
   "cell_type": "markdown",
   "id": "88dea8ba-1b1b-4521-85c1-9887e57072c9",
   "metadata": {},
   "source": [
    "To address this challenge, hash methods often support adding a \"salt\" (i.e., sort of a secret key) that is added to the computation of the hash.  To reproduce the salted hash value, an adversary would have to (1) have access to the same original data values, (2) use the same hash algorithm, and most importantly (3) have access to the same salt value."
   ]
  },
  {
   "cell_type": "markdown",
   "id": "7ee76547-1801-4ffb-809a-f5313c05a0ac",
   "metadata": {},
   "source": [
    "The `hashlib` module supports salted hashes through the `pbkdf2_hmac` method.\n",
    "\n",
    "The salts are assumed to be byte-style arrays, as with the input values passed to the hash.  The expectation is that the salt is at least 16 bytes long.\n",
    "\n",
    "We can directly produce a byte representation when storing the string by using `b'\\<string\\>'` notation."
   ]
  },
  {
   "cell_type": "code",
   "execution_count": null,
   "id": "7f9dc820-76df-4497-a20d-3c12b938c1bd",
   "metadata": {
    "tags": []
   },
   "outputs": [],
   "source": [
    "uca_salt = b'University of Central Arkansas Bears'\n",
    "ua_salt  = b'University of Arkansas Razorbacks'"
   ]
  },
  {
   "cell_type": "code",
   "execution_count": null,
   "id": "a6292a24-26f2-45f5-babc-adafc47c4196",
   "metadata": {},
   "outputs": [],
   "source": [
    "h = hashlib.pbkdf2_hmac('sha256', sample_user.encode(), uca_salt, 1000)\n",
    "h.hex()"
   ]
  },
  {
   "cell_type": "code",
   "execution_count": null,
   "id": "b297941b-ebd5-4876-a365-346553b2793d",
   "metadata": {},
   "outputs": [],
   "source": [
    "hashlib.pbkdf2_hmac('sha256', sample_user.encode(), uca_salt, 1000).hex()"
   ]
  },
  {
   "cell_type": "markdown",
   "id": "041ae6bc-402a-4750-a145-8338d5b2b849",
   "metadata": {},
   "source": [
    "Note that the value generated using the different salt produced a different result."
   ]
  },
  {
   "cell_type": "code",
   "execution_count": null,
   "id": "c678011e-8ad9-416f-83ed-de981807747d",
   "metadata": {},
   "outputs": [],
   "source": [
    "h = hashlib.pbkdf2_hmac('sha256', sample_user.encode(), ua_salt, 1000)\n",
    "h.hex()"
   ]
  },
  {
   "cell_type": "markdown",
   "id": "cc9011da-06ac-4b97-86f7-0a5608341d68",
   "metadata": {},
   "source": [
    "Generate using a different salted hash algorithm."
   ]
  },
  {
   "cell_type": "code",
   "execution_count": null,
   "id": "5f95d435-d0ee-4f38-b2ad-537ea227eeed",
   "metadata": {},
   "outputs": [],
   "source": [
    "hashlib.pbkdf2_hmac('sha512', sample_user.encode(), uca_salt, 1000).hex()"
   ]
  },
  {
   "cell_type": "code",
   "execution_count": null,
   "id": "d5c7ac1d-06e1-4e82-b9c4-5e5dae3bd564",
   "metadata": {},
   "outputs": [],
   "source": [
    "hashlib.pbkdf2_hmac('sha512', sample_user.encode(), ua_salt, 1000).hex()"
   ]
  },
  {
   "cell_type": "markdown",
   "id": "2eda094d-c7b7-4ac7-addc-00a2e88deb17",
   "metadata": {},
   "source": [
    "## <span style=\"color:red\">Exercise</span>\n",
    "\n",
    "How would you apply the salted hash of the `username` column of the sample table to create a new column containing the hashed result for each row of the table?"
   ]
  }
 ],
 "metadata": {
  "kernelspec": {
   "display_name": "Python 3 (ipykernel)",
   "language": "python",
   "name": "python3"
  },
  "language_info": {
   "codemirror_mode": {
    "name": "ipython",
    "version": 3
   },
   "file_extension": ".py",
   "mimetype": "text/x-python",
   "name": "python",
   "nbconvert_exporter": "python",
   "pygments_lexer": "ipython3",
   "version": "3.11.4"
  }
 },
 "nbformat": 4,
 "nbformat_minor": 5
}
