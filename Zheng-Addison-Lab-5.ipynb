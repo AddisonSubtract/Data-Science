{
 "cells": [
  {
   "cell_type": "markdown",
   "id": "spare-quantum",
   "metadata": {},
   "source": [
    "### Lab: Strings and Regular Expressions"
   ]
  },
  {
   "cell_type": "markdown",
   "id": "242f3e9b",
   "metadata": {},
   "source": [
    "## Name: Addison Zheng"
   ]
  },
  {
   "cell_type": "markdown",
   "id": "digital-package",
   "metadata": {},
   "source": [
    "### <span style=\"color:red\">Task 1</span>\n",
    "Write code that uses random-number generation to compose sentences. Use four lists of strings called article, noun, verb and preposition. Create a sentence by selecting a word at random from each array in the following order: article, noun, verb, preposition, article and noun. As each word is picked, concatenate it to the previous words in the sentence. Spaces should separate the words. Each sentence should start with a capital letter and end with a period. The code should generate and display 20 sentences.\n",
    "\n",
    "Hint: \n",
    "* Create a list for each set of strings \n",
    "* Write a loop that runs 20 times\n",
    "* Randomly pick an item out of each list and then put together using a print.\n",
    "* To randomly select a item, generate a random number between 0 and the length of the list"
   ]
  },
  {
   "cell_type": "code",
   "execution_count": 1,
   "id": "8c79a4f5",
   "metadata": {},
   "outputs": [
    {
     "name": "stdout",
     "output_type": "stream",
     "text": [
      "An student run above the cat.\n",
      "A phone fly after an phone.\n",
      "The pencil run behind an teacher.\n",
      "An phone run above a school.\n",
      "The school learn after the teacher.\n",
      "The student feel above a phone.\n",
      "A school feel after an cat.\n",
      "An phone learn above the pencil.\n",
      "The student learn after an teacher.\n",
      "A school fly against the student.\n",
      "An teacher feel at a student.\n",
      "An pencil run after the teacher.\n",
      "The school become against an school.\n",
      "The student learn after an phone.\n",
      "A cat run above an phone.\n",
      "An cat run about a school.\n",
      "An school become about an phone.\n",
      "A student feel behind a pencil.\n",
      "The teacher feel behind the school.\n",
      "The phone fly at a teacher.\n"
     ]
    }
   ],
   "source": [
    "import random\n",
    "\n",
    "# Create arrays to hold string\n",
    "articleArr = [\"A\", \"An\", \"The\"]\n",
    "nounArr = [\"Teacher\", \"School\", \"Pencil\", \"Cat\", \"Student\", \"Phone\"]\n",
    "verbArr = [\"feel\", \"run\", \"become\", \"fly\", \"learn\", \"learn\"]\n",
    "prepositionArr = [\"above\", \"at\", \"after\", \"against\", \"behind\", \"about\"]\n",
    "\n",
    "# for loop to loop 20 times\n",
    "for x in range(20):\n",
    "    # set variables\n",
    "    articleRand = random.choice(articleArr)\n",
    "    nounRand = random.choice(nounArr)\n",
    "    verbRand = random.choice(verbArr)\n",
    "    prepositionRand = random.choice(prepositionArr)\n",
    "    articleRand2 = random.choice(articleArr)\n",
    "    nounRand2 = random.choice(nounArr)\n",
    "\n",
    "    # set articles, nouns, verbs, prepositions, articles and nouns\n",
    "    sentence = f\"{articleRand} {nounRand} {verbRand} {prepositionRand} {articleRand2} {nounRand2}.\"\n",
    "    # print sentence\n",
    "    print(sentence.capitalize())"
   ]
  },
  {
   "cell_type": "markdown",
   "id": "super-candle",
   "metadata": {},
   "source": [
    "### <span style=\"color:red\">Task 2</span>\n",
    "Write code that reads a line of text from the user as input (as a string), tokenizes the string with the **split** method and outputs the tokens in reverse order as a new string. Use space characters as delimiters.  Hint:\n",
    "Use split, reverse, and join\n"
   ]
  },
  {
   "cell_type": "code",
   "execution_count": 2,
   "id": "423a7913",
   "metadata": {},
   "outputs": [
    {
     "name": "stdout",
     "output_type": "stream",
     "text": [
      "Reversed: hello world\n"
     ]
    }
   ],
   "source": [
    "# input\n",
    "text = input(\"Enter texts: \")\n",
    "\n",
    "# split text\n",
    "token = text.split()\n",
    "\n",
    "# reverse token\n",
    "token.reverse()\n",
    "\n",
    "# rejoins string into new sentence\n",
    "output = ' '.join(token)\n",
    "\n",
    "# output\n",
    "print(\"Reversed:\", output)"
   ]
  },
  {
   "cell_type": "markdown",
   "id": "naughty-captain",
   "metadata": {},
   "source": [
    "### <span style=\"color:red\">Task 3</span>\n",
    "Write code that reads a line of text from the user, tokenizes it using space characters as delimiters and outputs only those words ending with the letters 'ed'. (see rfind method) **Do not use regular expressions because you will do that in Task 4)**"
   ]
  },
  {
   "cell_type": "code",
   "execution_count": 3,
   "id": "4953258b",
   "metadata": {},
   "outputs": [
    {
     "name": "stdout",
     "output_type": "stream",
     "text": [
      "Words ending with 'ed': fined started \n"
     ]
    }
   ],
   "source": [
    "# input\n",
    "text = input(\"Enter texts: \")\n",
    "\n",
    "# split text\n",
    "words = text.split()\n",
    "\n",
    "# filter words\n",
    "output = \"\"\n",
    "for x in words:\n",
    "    if x.endswith('ed'):\n",
    "        output += (x + ' ')\n",
    "\n",
    "# output\n",
    "print(\"Words ending with 'ed':\", output)"
   ]
  },
  {
   "cell_type": "markdown",
   "id": "major-stack",
   "metadata": {},
   "source": [
    "### <span style=\"color:red\">Task 4</span>\n",
    " Reimplement Task 3 using **regular expressions** that capture the matching substrings, then display them.\n",
    " Hint: use findall"
   ]
  },
  {
   "cell_type": "code",
   "execution_count": 4,
   "id": "61b0d2fa",
   "metadata": {},
   "outputs": [
    {
     "name": "stdout",
     "output_type": "stream",
     "text": [
      "Words ending with 'ed': ['fined', 'started']\n"
     ]
    }
   ],
   "source": [
    "import re\n",
    "\n",
    "# input\n",
    "text = input(\"Enter texts: \")\n",
    "\n",
    "# use regex to find 'ed'\n",
    "ed = r'\\b\\w+ed\\b'\n",
    "output = re.findall(ed, text)\n",
    "\n",
    "# output\n",
    "print(\"Words ending with 'ed':\", output)"
   ]
  },
  {
   "cell_type": "markdown",
   "id": "brilliant-freight",
   "metadata": {},
   "source": [
    "### <span style=\"color:red\">Task 5</span>\n",
    "Write and test a **regular expression** that searches a string and matches all valid URLs in the string.  Print the matching values. (hint: use findAll)\n",
    "\n",
    "A URL (for this lab) is defined by the following rules:\n",
    "http://www.domainname.exension\n",
    "where:\n",
    "* All URLS start with `http://www.`\n",
    "* domain name must be at least 2 characters long\n",
    "* domain name must consist of alpha numeric characters\n",
    "* extension must be 2 or more characters\n",
    "\n",
    "Use the following set of test strings to test your results in a for loop (print the string being compared and the findAll results in a loop):\n",
    "```\n",
    "teststrings = ['http://www.yahoo.com msnbc.com http://zappos.com http://helloworld',\n",
    "               'http:// http://target.com ://walmart.com http://www.msnbc.com http://www.',\n",
    "               'http://www. http:/www.nogo.com http://uca.edu http://www.go.co http://apple.n'\n",
    "              ]\n",
    "```"
   ]
  },
  {
   "cell_type": "code",
   "execution_count": 7,
   "id": "b5a01853",
   "metadata": {},
   "outputs": [
    {
     "name": "stdout",
     "output_type": "stream",
     "text": [
      "String: http://www.yahoo.com msnbc.com http://zappos.com http://helloworld\n",
      "Matching URLs: ['http://www.yahoo.com']\n",
      "\n",
      "String: http:// http://target.com ://walmart.com http://www.msnbc.com http://www.\n",
      "Matching URLs: ['http://www.msnbc.com']\n",
      "\n",
      "String: http://www. http:/www.nogo.com http://uca.edu http://www.go.co http://apple.n\n",
      "Matching URLs: ['http://www.go.co']\n",
      "\n"
     ]
    }
   ],
   "source": [
    "import re\n",
    "\n",
    "# test string array\n",
    "testStrings = ['http://www.yahoo.com msnbc.com http://zappos.com http://helloworld',\n",
    "               'http:// http://target.com ://walmart.com http://www.msnbc.com http://www.',\n",
    "               'http://www. http:/www.nogo.com http://uca.edu http://www.go.co http://apple.n'\n",
    "              ]\n",
    "\n",
    "# regex for matching URLs\n",
    "urlPattern = r'http://www\\.[a-zA-Z0-9]{2,}\\.[a-zA-Z0-9]{2,}'\n",
    "\n",
    "for x in testStrings:\n",
    "    # finds matching url using for loop\n",
    "    matched_urls = re.findall(urlPattern, x)\n",
    "\n",
    "    # output\n",
    "    print(f\"String: {x}\")\n",
    "    print(\"Matching URLs:\", matched_urls)\n",
    "    print()"
   ]
  }
 ],
 "metadata": {
  "kernelspec": {
   "display_name": "Python 3 (ipykernel)",
   "language": "python",
   "name": "python3"
  },
  "language_info": {
   "codemirror_mode": {
    "name": "ipython",
    "version": 3
   },
   "file_extension": ".py",
   "mimetype": "text/x-python",
   "name": "python",
   "nbconvert_exporter": "python",
   "pygments_lexer": "ipython3",
   "version": "3.11.6"
  }
 },
 "nbformat": 4,
 "nbformat_minor": 5
}
