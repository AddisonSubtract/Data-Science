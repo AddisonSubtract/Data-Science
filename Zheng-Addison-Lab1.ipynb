{
 "cells": [
  {
   "cell_type": "markdown",
   "id": "ec5bfe15-d795-44a4-854a-ba08bf26a3b3",
   "metadata": {},
   "source": [
    "# Name: Addison Zheng"
   ]
  },
  {
   "cell_type": "markdown",
   "id": "47fd7698-748b-4117-a3a7-758197e2a37c",
   "metadata": {},
   "source": [
    "## Assignment: Lab 1\n",
    "## The objective of this lab is to become familar with **Jupyter notebooks**."
   ]
  },
  {
   "cell_type": "markdown",
   "id": "d8788fe4-6fc4-4816-be23-49424e2748b5",
   "metadata": {},
   "source": [
    "My name is Addison Zheng. I am currently a senior of Computer Science at UCA. I have taken all other classes taught by Mrs. Talley, such as Data Structures and Assembly. I have a twin brother called Alvin. I recently finished my summer internship at Gainwell technologies. I had learned a lot of knowledge relating to how the industry works on a daily basis and I had met a lot of new friends and collegues. \n",
    "\n",
    "My email address is <azheng1@cub.uca.edu>.\n",
    "\n",
    "Some useful resources for learning Jupyter notebooks are the following:\n",
    "\n",
    "[Mark down language reference](https://www.markdownguide.org/basic-syntax)  \n",
    "\n",
    "[Jupyter notebook cheat sheet](https://cheatography.com/weidadeyue/cheat-sheets/jupyter-notebook/)"
   ]
  },
  {
   "cell_type": "markdown",
   "id": "d7a7f6a5-9858-45da-99bb-9a802331b3ee",
   "metadata": {},
   "source": [
    "This is an example of code tht will print Hello World.\n",
    "\n",
    "`print('Hello World')`"
   ]
  },
  {
   "cell_type": "code",
   "execution_count": 1,
   "id": "f67d723c-9891-4d5d-92e0-82cbc9517820",
   "metadata": {
    "tags": []
   },
   "outputs": [
    {
     "name": "stdout",
     "output_type": "stream",
     "text": [
      "Hello World\n"
     ]
    }
   ],
   "source": [
    "print('Hello World')"
   ]
  },
  {
   "cell_type": "markdown",
   "id": "b3df2203-6d7a-41c6-8ec1-af99e7a12c20",
   "metadata": {},
   "source": [
    "This code will convert a given temperature in Fahrenheit into Celcuis.\n",
    "\n",
    "`fahrenheit = float(input(\"Enter temperature in Fahrenheit: \"))`\n",
    "\n",
    "`celsius = (fahrenheit - 32) * 5/9`\n",
    "\n",
    "`fFormatted = \"{:.2f}\".format(fahrenheit)`\n",
    "\n",
    "`cFormatted = \"{:.2f}\".format(celsius)`\n",
    "\n",
    "`print(fFormatted + \" degrees Fahrenheit is \" + cFormatted + \" degrees Celsius\")`\n",
    "\n",
    "`if(celsius <= 0):`\n",
    "\n",
    "`    print(\"You could freeze water\")`\n",
    "\n",
    "`if(celsius >= 100):`\n",
    "\n",
    "`    print(\"You could boil water\")`"
   ]
  },
  {
   "cell_type": "code",
   "execution_count": 14,
   "id": "cb6787e2-d222-4c36-b927-deda17c0191e",
   "metadata": {
    "tags": []
   },
   "outputs": [
    {
     "name": "stdin",
     "output_type": "stream",
     "text": [
      "Enter temperature in Fahrenheit:  1\n"
     ]
    },
    {
     "name": "stdout",
     "output_type": "stream",
     "text": [
      "1.00 degrees Fahrenheit is -17.22 degrees Celsius\n",
      "You could freeze water\n"
     ]
    }
   ],
   "source": [
    "fahrenheit = float(input(\"Enter temperature in Fahrenheit: \"))\n",
    "celsius = (fahrenheit - 32) * 5/9\n",
    "\n",
    "fFormatted = \"{:.2f}\".format(fahrenheit)\n",
    "cFormatted = \"{:.2f}\".format(celsius)\n",
    "print(fFormatted + \" degrees Fahrenheit is \" + cFormatted + \" degrees Celsius\")\n",
    "\n",
    "if(celsius <= 0):\n",
    "    print(\"You could freeze water\")\n",
    "if(celsius >= 100):\n",
    "    print(\"You could boil water\")"
   ]
  }
 ],
 "metadata": {
  "kernelspec": {
   "display_name": "Python 3 (ipykernel)",
   "language": "python",
   "name": "python3"
  },
  "language_info": {
   "codemirror_mode": {
    "name": "ipython",
    "version": 3
   },
   "file_extension": ".py",
   "mimetype": "text/x-python",
   "name": "python",
   "nbconvert_exporter": "python",
   "pygments_lexer": "ipython3",
   "version": "3.11.4"
  }
 },
 "nbformat": 4,
 "nbformat_minor": 5
}
