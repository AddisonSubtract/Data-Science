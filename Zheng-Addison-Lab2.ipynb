{
 "cells": [
  {
   "attachments": {},
   "cell_type": "markdown",
   "metadata": {},
   "source": [
    "# Notebook written by Addison Zheng\n",
    "### Assignment: Lab 2"
   ]
  },
  {
   "cell_type": "markdown",
   "metadata": {},
   "source": [
    "**Part 1**\n",
    "\n",
    "Accept the edge length of the base of the right triangle. Print the triangle with hashtags in two different ways. If 5 is given by the user as an input, the program will print hash tags (#) starting with one hashtag up to five to create the triangle. Then, it will print a triangle starting with 5 hashtags down to one.\n",
    "\n",
    "\n",
    "Steps for the program:\n",
    "\n",
    "Ask the user the edge length of the base of right triangle.  \n",
    "If user enter 0 or a negative number, the loops ends and the following message is printed: \"All done!\"\n",
    "The program will print the triangles as described.   \n",
    "Loop back to ask the user for a new edge length"
   ]
  },
  {
   "cell_type": "code",
   "execution_count": 2,
   "metadata": {},
   "outputs": [
    {
     "name": "stdout",
     "output_type": "stream",
     "text": [
      "#\n",
      "##\n",
      "###\n",
      "####\n",
      "#####\n",
      "######\n",
      "#######\n",
      "########\n",
      "#########\n",
      "##########\n",
      "\n",
      "##########\n",
      "#########\n",
      "########\n",
      "#######\n",
      "######\n",
      "#####\n",
      "####\n",
      "###\n",
      "##\n",
      "#\n",
      "\n",
      "#\n",
      "##\n",
      "###\n",
      "####\n",
      "#####\n",
      "\n",
      "#####\n",
      "####\n",
      "###\n",
      "##\n",
      "#\n",
      "\n",
      "#\n",
      "##\n",
      "###\n",
      "\n",
      "###\n",
      "##\n",
      "#\n",
      "\n",
      "\n",
      "\n",
      "All Done!\n"
     ]
    }
   ],
   "source": [
    "again = True\n",
    "\n",
    "while again == True:\n",
    "    length = int(input(\"Please enter the edge length of the base of right triangle: \"))\n",
    "\n",
    "    if(length <= 0):\n",
    "        again = False\n",
    "\n",
    "    for i in range(length):\n",
    "        for x in range(i + 1):\n",
    "            print(\"#\", end='')\n",
    "        print(\"\")\n",
    "\n",
    "    print(\"\")\n",
    "\n",
    "    for i in reversed(range(length)):\n",
    "        for x in range(i + 1):\n",
    "            print(\"#\", end='')\n",
    "        print(\"\")\n",
    "\n",
    "    print(\"\")\n",
    "\n",
    "print(\"All Done!\")"
   ]
  },
  {
   "cell_type": "markdown",
   "metadata": {},
   "source": [
    "**Part 2**\n",
    "\n",
    "Calculate basic statistics for these values 9, 11, 22, 34, 17, 22, 34, 22 and 40.  Print a label and the values for the following: mean, median and mode, sum, minimum, and maximum. Your output should be easy to read and well formatted."
   ]
  },
  {
   "cell_type": "code",
   "execution_count": null,
   "metadata": {},
   "outputs": [],
   "source": [
    "import statistics\n",
    "\n",
    "values = [9, 11, 22, 34, 17, 22, 34, 22, 40]\n",
    "\n",
    "meanFormatted = \"{:.2f}\".format(statistics.mean(values))\n",
    "\n",
    "print(\"Mean: \", meanFormatted)\n",
    "print(\"Median: \", statistics.median(values))\n",
    "print(\"Mode: \", statistics.mode(values))\n",
    "print(\"Sum: \", sum(values))\n",
    "print(\"Minimum: \", min(values))\n",
    "print(\"Maximum: \", max(values))"
   ]
  }
 ],
 "metadata": {
  "kernelspec": {
   "display_name": ".venv",
   "language": "python",
   "name": "python3"
  },
  "language_info": {
   "codemirror_mode": {
    "name": "ipython",
    "version": 3
   },
   "file_extension": ".py",
   "mimetype": "text/x-python",
   "name": "python",
   "nbconvert_exporter": "python",
   "pygments_lexer": "ipython3",
   "version": "3.9.13"
  },
  "orig_nbformat": 4,
  "vscode": {
   "interpreter": {
    "hash": "3173c7d1a3f57eb216fd8bbc1711af54de9621001c18c65931eea273415b8e17"
   }
  }
 },
 "nbformat": 4,
 "nbformat_minor": 2
}
