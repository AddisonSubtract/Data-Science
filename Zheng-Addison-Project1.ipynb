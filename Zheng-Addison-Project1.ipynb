{
 "cells": [
  {
   "cell_type": "markdown",
   "metadata": {
    "jp-MarkdownHeadingCollapsed": true,
    "tags": []
   },
   "source": [
    "# Notebook written by Addison Zheng\n",
    "### Project - Survey Data Preparation and Analysis ###\n",
    "\n",
    "#### Project Objective ####\n",
    "In this project, you will practice using tuples and lists. You will also experiment with the map/reduce programming paradigm by using list comprehensions, and the built-in map, filter, and reduce functions. **It is important you use the methods that I ask you to use even though you can solve the problem a different way.**\n",
    "\n",
    "#### Problem Description ####\n",
    "Students filled out separate surveys. The following chart combines the results of three different surveys. In the three surveys, students were asked to rate the following:\n",
    "1. Quality of food in the cafeteria on a scale of 1 to 5, with 1 being \"awful\" and 5 being \"excellent\".\n",
    "2. HPER (recreation center) on a scale of 1 to 500, with 100 being \"awful\" and 500 being \"excellent\".  \n",
    "3. Health Services with a rating of 'awful', 'ok', 'good', 'great', 'excellent' \n",
    "\n",
    "The surveys were independently developed and did not use the same rating scales.\n",
    "\n",
    "|Student ID|Classification|Food Rating|HPER Rating|Health Services Rating\n",
    "|------------|-------------------------|--------|-----|------\n",
    "|783|Freshman|3|500|excellent\n",
    "|524|Sophmore|3|500|awful\n",
    "|447|Junior|4|-300|excellent\n",
    "|177|Senior|5|400|excellent\n",
    "|739|Freshman|4|400|good\n",
    "|446|Junior|6|500|amazing\n",
    "|149|Senior|3|300|good\n",
    "|599|Sophmore|2|400|blech\n",
    "|545|Sophmore|-2|400|awful\n",
    "|739|Freshman|4|300|ok\n",
    "|433|Junior|2|200|great\n",
    "|739|Freshman|3|400|good\n",
    "\n"
   ]
  },
  {
   "cell_type": "markdown",
   "metadata": {},
   "source": [
    "### <span style=\"color:red\">Task 1</span>\n",
    "Data Acquisition: Acquire and confirm the survey data.\n",
    "\n",
    "Perform each of the following steps:\n",
    "\n",
    "- Use a list of tuples to store ALL the survey results.\n",
    "```python\n",
    "#Lists of tuples of students\n",
    "students = [(783, 'Freshman', 3, 500, 'excellent'), (524, 'Sophmore', 3, 500, 'awful'), (447, 'Junior', 4, -300, 'execellent'), (177, 'Senior', 5, 400, 'excellent'), \n",
    "(739, 'Freshman', 4, 400, 'good'), (447, 'Junior', 6, 500, 'amazing'), (149, 'Senior', 3, 300, 'good'),(599, 'Sophmore', 2, 400, 'blech'), \n",
    "(545, 'Sophmore', -2, 400, 'awful'), (739, 'Freshman', 4, 300, 'ok'), (433, 'Junior', 2, 200, 'great'), (739, 'Freshman', 3, 400, 'good')]\n",
    "\n",
    "```\n",
    "\n",
    "- Display the contents of the variable so your list of tuples is displayed in the notebook.  Verify that your tuple matches the values provided.\n",
    "```python\n",
    "#Displaying the content of the tuples\n",
    "print(students)\n",
    "```\n",
    "\n",
    "- Use a Python method to display the number of tuple entries in your survey list. Make sure you label your output.\n",
    "```python\n",
    "#Outputs number of entries\n",
    "print(\"There are\", len(students), \"entries\")\n",
    "```"
   ]
  },
  {
   "cell_type": "code",
   "execution_count": 10,
   "metadata": {},
   "outputs": [
    {
     "name": "stdout",
     "output_type": "stream",
     "text": [
      "[(783, 'Freshman', 3, 500, 'excellent'), (524, 'Sophmore', 3, 500, 'awful'), (447, 'Junior', 4, -300, 'execellent'), (177, 'Senior', 5, 400, 'excellent'), (739, 'Freshman', 4, 400, 'good'), (447, 'Junior', 6, 500, 'amazing'), (149, 'Senior', 3, 300, 'good'), (599, 'Sophmore', 2, 400, 'blech'), (545, 'Sophmore', -2, 400, 'awful'), (739, 'Freshman', 4, 300, 'ok'), (433, 'Junior', 2, 200, 'great'), (739, 'Freshman', 3, 400, 'good')]\n",
      "There are 12 entries\n"
     ]
    }
   ],
   "source": [
    "import collections\n",
    "\n",
    "#Lists of tuples of students\n",
    "students = [(783, 'Freshman', 3, 500, 'excellent'), (524, 'Sophmore', 3, 500, 'awful'), (447, 'Junior', 4, -300, 'execellent'), (177, 'Senior', 5, 400, 'excellent'), \n",
    "(739, 'Freshman', 4, 400, 'good'), (447, 'Junior', 6, 500, 'amazing'), (149, 'Senior', 3, 300, 'good'),(599, 'Sophmore', 2, 400, 'blech'), \n",
    "(545, 'Sophmore', -2, 400, 'awful'), (739, 'Freshman', 4, 300, 'ok'), (433, 'Junior', 2, 200, 'great'), (739, 'Freshman', 3, 400, 'good')]\n",
    "\n",
    "#Displaying the content of the tuples\n",
    "print(students)\n",
    "\n",
    "#Outputs number of entries\n",
    "print(\"There are\", len(students), \"entries\")"
   ]
  },
  {
   "cell_type": "markdown",
   "metadata": {
    "tags": []
   },
   "source": [
    "### <span style=\"color:red\">Task 2</span>\n",
    "\n",
    "Data Preparation and Data Quality: Prepare the food quality data for reporting.\n",
    "\n",
    "There was a bug in the program that created the food quality survey, so all responses less than 0 and greater than 5 will need to be filtered out of the list.  In addition, the final results of the survey need to be on a consistent scale between 10 and 50. Therefore, after you filter out the incorrect values, you will need to multiple each value by 10. **Your task is to extract the valid food quality scores from the survey data into a list and correct the data issues.  You do not need to modify the original survey list of tuples.**\n",
    "\n",
    "Your subtasks are:\n",
    "- Use a **list comprehension** to extract the food quality scores from the survey data tuple into a list.  Display the contents of the list and verify the results.\n",
    "```python\n",
    "#Extract food quality scores\n",
    "foodScore = []\n",
    "for x in students:\n",
    "    foodScore.append(x[2])\n",
    "print(foodScore)\n",
    "```\n",
    "- Use a **list comprehension** with a **filter ** to remove bad data. Display the contents of the list and verify the results.\n",
    "```python\n",
    "#Filterd bad data\n",
    "filteredScore = [item for item in foodScore if item > 0 and item <= 5]\n",
    "print(filteredScore)\n",
    "```\n",
    "- Use a **list comprehension** with a **map** to multiply every value by 10. Display the contents of the list and verify the results.\n",
    "```python\n",
    "#Multiply scores by 10\n",
    "list(map(lambda x: x * 10, filteredScore))\n",
    "```\n",
    "\n",
    "**You will use the resulting list in a later task.**\n",
    "\n"
   ]
  },
  {
   "cell_type": "code",
   "execution_count": 11,
   "metadata": {},
   "outputs": [
    {
     "name": "stdout",
     "output_type": "stream",
     "text": [
      "[3, 3, 4, 5, 4, 6, 3, 2, -2, 4, 2, 3]\n",
      "[3, 3, 4, 5, 4, 3, 2, 4, 2, 3]\n"
     ]
    }
   ],
   "source": [
    "#Extract food quality scores\n",
    "foodScore = []\n",
    "for x in students:\n",
    "    foodScore.append(x[2])\n",
    "print(foodScore)\n",
    "\n",
    "#Filterd bad data\n",
    "filteredScore = [item for item in foodScore if item > 0 and item <= 5]\n",
    "print(filteredScore)\n",
    "\n",
    "#Multiply scores by 10\n",
    "finalFood = list(map(lambda x: x * 10, filteredScore))\n"
   ]
  },
  {
   "cell_type": "markdown",
   "metadata": {},
   "source": [
    "### <span style=\"color:red\">Task 3</span>\n",
    "Data Preparation and Quality: Prepare the  HPER rating for reporting.\n",
    "\n",
    "There was a bug in the program that created the HPER survey, so all responses less than 0 and greater than 500 will need to be filtered out.  In addition, the final results should be reported on a different scale. Therefore, after you filter the bad data, you will need to divide each value by 10 with floor division. **Your task is to extract the HPER ratings only from the tuples into a list.  You do not need to modify the original survey list of tuples.**\n",
    "\n",
    "Use ***<span style=\"color:red\">one</span>*** **list comprehension** to combine the following steps:\n",
    "- Extract all the valid HPER quality scores from the survey data\n",
    "- Use a filter to remove bad data. \n",
    "- Use a map to divide every value by 10. (Make sure your result is an integer and not a float)\n",
    "\n",
    "Display the contents of the list and verify the results. **You will use this list in a later task.**\n",
    "\n"
   ]
  },
  {
   "cell_type": "code",
   "execution_count": 12,
   "metadata": {},
   "outputs": [
    {
     "name": "stdout",
     "output_type": "stream",
     "text": [
      "[50.0, 50.0, 40.0, 40.0, 50.0, 30.0, 40.0, 40.0, 30.0, 20.0, 40.0]\n"
     ]
    }
   ],
   "source": [
    "#Extracts, filters and divide valid HPER quality scores\n",
    "HPERScore = [item[3] / 10 for item in students if item[3] > 0 and item[3] <= 500]\n",
    "print(HPERScore)"
   ]
  },
  {
   "cell_type": "markdown",
   "metadata": {
    "tags": []
   },
   "source": [
    "### <span style=\"color:red\">Task 4</span>\n",
    "Data Preparation and Quality: Prepare the  Health Services rating for reporting.\n",
    "\n",
    "The scale for this survey was a text response of 'awful', 'ok', 'good', 'great', or 'excellent'.  Some users provided responses that did not match the scale.  We need to convert the text responses to a scale of (awful = 10, ok = 20, good = 30, great = 40, and excellent = 50) and drop any responses that are not in the acceptable set.  \n",
    "\n",
    "First, write a function called `convert_health_rating` that accepts a text rating as a paramter and returns the corresponding integer value in a return statement. If the text is not in the acceptable set, return a 0.  Test this function by calling it with text ratings and checking the return values. You do not need a loop in the function. You will use it in conjuntion with other code to accomplish our goal.\n",
    "```python\n",
    "#Part 1\n",
    "def convert_health_rating(rating):\n",
    "    if (rating.lower() == 'awful'):\n",
    "        new_rating = 10\n",
    "    elif(rating.lower() == 'ok'):\n",
    "        new_rating = 20\n",
    "    elif(rating.lower() == 'good'):\n",
    "        new_rating = 30\n",
    "    elif(rating.lower() == 'great'):\n",
    "        new_rating = 40\n",
    "    elif(rating.lower() == 'excellent'):\n",
    "        new_rating = 50\n",
    "    else:\n",
    "        new_rating = 0\n",
    "    return new_rating\n",
    "```\n",
    "\n",
    "HINT: You will need to know how to check string equality to write this function.  Here is an example of how you might convert 'awful' to 1.  \n",
    "\n",
    "```python\n",
    "str_rating = 'awful'\n",
    "if (str_rating.lower() == 'awful'):\n",
    "    new_rating = 10\n",
    "```\n",
    "Second, write a **map** function called `extract_and_convert_health_rating` to accept a survey entry (a tuple), extract the health rating (a string found within the tuple), call `convert_health_rating` and return the converted health rating (an integer). Test this function by calling it with various survey entries and checking the return values. You do not need a loop in this function. You will use it in conjuntion with other code to accomplish our goal.\n",
    "```python\n",
    "#Part 2\n",
    "def extract_and_convert_health_rating(student):\n",
    "    health = student[4]\n",
    "    convertedHealth = convert_health_rating(health)\n",
    "\n",
    "    return convertedHealth\n",
    "```\n",
    "\n",
    "Third, write a **filter** function called `is_valid_health_rating` to return `True` if the value is 10, 20, 30, 40, or 50.  Otherwise, return `False`.  Test the function by calling it with valid and invalid values. You do not need a loop in this function. You will use it in conjuntion with other code to accomplish our goal.\n",
    "```python\n",
    "#Part3\n",
    "def is_valid_health_rating(rating):\n",
    "    if(rating == 10):\n",
    "        value = True\n",
    "    elif(rating == 20):\n",
    "        value = True\n",
    "    elif(rating == 30):\n",
    "        value = True\n",
    "    elif(rating == 40):\n",
    "        value = True\n",
    "    elif(rating == 50):\n",
    "        value = True\n",
    "    else:\n",
    "        value = False\n",
    "    return value\n",
    "```\n",
    "\n",
    "Fourth, use the `filter` and `map` **built-in** functions together to explicitly do the following:\n",
    "- Use the built-in `map` to translate the survey entry health ratings to the numeric values by calling the `extract_and_convert_health_rating` function.\n",
    "- Use built-in `filter` and `is_valid_health_rating` to remove invalid integer values\n",
    "```python\n",
    "#Part 4\n",
    "healthRating = list(map(extract_and_convert_health_rating, students))\n",
    "filteredHealth = list(filter(is_valid_health_rating, healthRating))\n",
    "print(filteredHealth)\n",
    "```\n",
    "\n",
    "Display the contents of the list and verify the results.  **You will use this list in a later task.**\n"
   ]
  },
  {
   "cell_type": "code",
   "execution_count": 13,
   "metadata": {},
   "outputs": [
    {
     "name": "stdout",
     "output_type": "stream",
     "text": [
      "[50, 10, 50, 30, 30, 10, 20, 40, 30]\n"
     ]
    }
   ],
   "source": [
    "#Part 1\n",
    "def convert_health_rating(rating):\n",
    "    if (rating.lower() == 'awful'):\n",
    "        new_rating = 10\n",
    "    elif(rating.lower() == 'ok'):\n",
    "        new_rating = 20\n",
    "    elif(rating.lower() == 'good'):\n",
    "        new_rating = 30\n",
    "    elif(rating.lower() == 'great'):\n",
    "        new_rating = 40\n",
    "    elif(rating.lower() == 'excellent'):\n",
    "        new_rating = 50\n",
    "    else:\n",
    "        new_rating = 0\n",
    "    return new_rating\n",
    "\n",
    "#Part 2\n",
    "def extract_and_convert_health_rating(student):\n",
    "    health = student[4]\n",
    "    convertedHealth = convert_health_rating(health)\n",
    "\n",
    "    return convertedHealth\n",
    "\n",
    "#Part3\n",
    "def is_valid_health_rating(rating):\n",
    "    if(rating == 10):\n",
    "        value = True\n",
    "    elif(rating == 20):\n",
    "        value = True\n",
    "    elif(rating == 30):\n",
    "        value = True\n",
    "    elif(rating == 40):\n",
    "        value = True\n",
    "    elif(rating == 50):\n",
    "        value = True\n",
    "    else:\n",
    "        value = False\n",
    "    return value\n",
    "\n",
    "\n",
    "#Part 4\n",
    "healthRating = list(map(extract_and_convert_health_rating, students))\n",
    "filteredHealth = list(filter(is_valid_health_rating, healthRating))\n",
    "print(filteredHealth)"
   ]
  },
  {
   "cell_type": "markdown",
   "metadata": {},
   "source": [
    "### <span style=\"color:red\">Task 5 </span>\n",
    "Data Analysis and Reporting: Determine and display the frequency of each of the standardized food quality ratings **(this list you created in a previous task)** in the survey using a bar plot.\n",
    "\n",
    "\n",
    "Your subtasks are:\n",
    "- Use numpy `unique` or some other method to calcuate the frequency of each food quality rating. Display and verify the results.\n",
    "```python\n",
    "#calculate the frequency of each food quality rating\n",
    "values, frequencies = np.unique(filteredScore, return_counts=True)\n",
    "```\n",
    "- Use matplotlib or seaborn to show a bar chart of values on the x axis and frequencies on the y. Create a title for the chart as well as labels for the x and y axis.\n",
    "```python\n",
    "#Frequency Graph\n",
    "sns.set_style('whitegrid')  # default is white with no grid\n",
    "\n",
    "# create and display the bar plot\n",
    "axes = sns.barplot(x=values, y=frequencies, palette='bright')\n",
    "\n",
    "# set the title of the plot\n",
    "title = 'Frequencies of Food Quality Ratings'\n",
    "axes.set_title(title)\n",
    "\n",
    "# label the axes\n",
    "labels = axes.set(xlabel='Score', ylabel='Frequency')  \n",
    "```"
   ]
  },
  {
   "cell_type": "code",
   "execution_count": 14,
   "metadata": {},
   "outputs": [
    {
     "name": "stderr",
     "output_type": "stream",
     "text": [
      "C:\\Users\\addis\\AppData\\Local\\Packages\\PythonSoftwareFoundation.Python.3.11_qbz5n2kfra8p0\\LocalCache\\local-packages\\Python311\\site-packages\\seaborn\\_oldcore.py:1498: FutureWarning: is_categorical_dtype is deprecated and will be removed in a future version. Use isinstance(dtype, CategoricalDtype) instead\n",
      "  if pd.api.types.is_categorical_dtype(vector):\n",
      "C:\\Users\\addis\\AppData\\Local\\Packages\\PythonSoftwareFoundation.Python.3.11_qbz5n2kfra8p0\\LocalCache\\local-packages\\Python311\\site-packages\\seaborn\\_oldcore.py:1498: FutureWarning: is_categorical_dtype is deprecated and will be removed in a future version. Use isinstance(dtype, CategoricalDtype) instead\n",
      "  if pd.api.types.is_categorical_dtype(vector):\n",
      "C:\\Users\\addis\\AppData\\Local\\Packages\\PythonSoftwareFoundation.Python.3.11_qbz5n2kfra8p0\\LocalCache\\local-packages\\Python311\\site-packages\\seaborn\\_oldcore.py:1498: FutureWarning: is_categorical_dtype is deprecated and will be removed in a future version. Use isinstance(dtype, CategoricalDtype) instead\n",
      "  if pd.api.types.is_categorical_dtype(vector):\n"
     ]
    },
    {
     "data": {
      "image/png": "[encoded data removed]",
      "text/plain": [
       "<Figure size 640x480 with 1 Axes>"
      ]
     },
     "metadata": {},
     "output_type": "display_data"
    }
   ],
   "source": [
    "import matplotlib.pyplot as plt\n",
    "import numpy as np\n",
    "import seaborn as sns\n",
    "\n",
    "#calculate the frequency of each food quality rating\n",
    "values, frequencies = np.unique(filteredScore, return_counts=True)\n",
    "\n",
    "\n",
    "#Frequency Graph\n",
    "sns.set_style('whitegrid')  # default is white with no grid\n",
    "\n",
    "# create and display the bar plot\n",
    "axes = sns.barplot(x=values, y=frequencies, palette='bright')\n",
    "\n",
    "# set the title of the plot\n",
    "title = 'Frequencies of Food Quality Ratings'\n",
    "axes.set_title(title)\n",
    "\n",
    "# label the axes\n",
    "labels = axes.set(xlabel='Score', ylabel='Frequency')  "
   ]
  },
  {
   "cell_type": "markdown",
   "metadata": {
    "tags": []
   },
   "source": [
    "### <span style=\"color:red\">Task 6</span>\n",
    "Data Analysis and Reporting: Determine and display the frequency of each of the standardized health ratings **(this list you created in a previous task)** in the survey using a bar plot.\n",
    "\n",
    "\n",
    "Your subtasks are:\n",
    "- Use numpy `unique` or some other method to calcuate the frequency of each health rating. Display and verify the results.\n",
    "```python\n",
    "#calculate the frequency of each standard health rating\n",
    "values, frequencies = np.unique(filteredHealth, return_counts=True)\n",
    "```\n",
    "\n",
    "- Use matplotlib or seaborn to show a bar chart of values on the x axis and frequencies on the y. Create a title for the chart as well as labels for the x and y axis.\n",
    "```python\n",
    "#Frequency Graph\n",
    "sns.set_style('whitegrid')  # default is white with no grid\n",
    "\n",
    "# create and display the bar plot\n",
    "axes = sns.barplot(x=values, y=frequencies, palette='bright')\n",
    "\n",
    "# set the title of the plot\n",
    "title = 'Frequencies of Standard Health Ratings'\n",
    "axes.set_title(title)\n",
    "\n",
    "# label the axes\n",
    "labels = axes.set(xlabel='Score', ylabel='Frequency')\n",
    "```"
   ]
  },
  {
   "cell_type": "code",
   "execution_count": 15,
   "metadata": {},
   "outputs": [
    {
     "name": "stderr",
     "output_type": "stream",
     "text": [
      "C:\\Users\\addis\\AppData\\Local\\Packages\\PythonSoftwareFoundation.Python.3.11_qbz5n2kfra8p0\\LocalCache\\local-packages\\Python311\\site-packages\\seaborn\\_oldcore.py:1498: FutureWarning: is_categorical_dtype is deprecated and will be removed in a future version. Use isinstance(dtype, CategoricalDtype) instead\n",
      "  if pd.api.types.is_categorical_dtype(vector):\n",
      "C:\\Users\\addis\\AppData\\Local\\Packages\\PythonSoftwareFoundation.Python.3.11_qbz5n2kfra8p0\\LocalCache\\local-packages\\Python311\\site-packages\\seaborn\\_oldcore.py:1498: FutureWarning: is_categorical_dtype is deprecated and will be removed in a future version. Use isinstance(dtype, CategoricalDtype) instead\n",
      "  if pd.api.types.is_categorical_dtype(vector):\n",
      "C:\\Users\\addis\\AppData\\Local\\Packages\\PythonSoftwareFoundation.Python.3.11_qbz5n2kfra8p0\\LocalCache\\local-packages\\Python311\\site-packages\\seaborn\\_oldcore.py:1498: FutureWarning: is_categorical_dtype is deprecated and will be removed in a future version. Use isinstance(dtype, CategoricalDtype) instead\n",
      "  if pd.api.types.is_categorical_dtype(vector):\n"
     ]
    },
    {
     "data": {
      "image/png": "[encoded data removed]",
      "text/plain": [
       "<Figure size 640x480 with 1 Axes>"
      ]
     },
     "metadata": {},
     "output_type": "display_data"
    }
   ],
   "source": [
    "#calculate the frequency of each standard health rating\n",
    "values, frequencies = np.unique(filteredHealth, return_counts=True)\n",
    "\n",
    "#Frequency Graph\n",
    "sns.set_style('whitegrid')  # default is white with no grid\n",
    "\n",
    "# create and display the bar plot\n",
    "axes = sns.barplot(x=values, y=frequencies, palette='bright')\n",
    "\n",
    "# set the title of the plot\n",
    "title = 'Frequencies of Standard Health Ratings'\n",
    "axes.set_title(title)\n",
    "\n",
    "# label the axes\n",
    "labels = axes.set(xlabel='Score', ylabel='Frequency')  "
   ]
  },
  {
   "cell_type": "markdown",
   "metadata": {
    "tags": []
   },
   "source": [
    "### <span style=\"color:red\">Task 7</span>\n",
    "Data Analysis and Reporting: Determine and display the frequency of each of the standardized HPER ratings (**the list you created in a previous task**) in the survey using a bar plot.\n",
    "\n",
    "\n",
    "Your subtasks are:\n",
    "- Use numpy `unique` or some other method to calcuate the frequency of each HPER rating. Display and verify the results.\n",
    "- Use matplotlib or seaborn to show a bar chart of values on the x axis and frequencies on the y. Create a title for the chart as well as labels for the x and y axis."
   ]
  },
  {
   "cell_type": "code",
   "execution_count": 16,
   "metadata": {},
   "outputs": [
    {
     "name": "stderr",
     "output_type": "stream",
     "text": [
      "C:\\Users\\addis\\AppData\\Local\\Packages\\PythonSoftwareFoundation.Python.3.11_qbz5n2kfra8p0\\LocalCache\\local-packages\\Python311\\site-packages\\seaborn\\_oldcore.py:1498: FutureWarning: is_categorical_dtype is deprecated and will be removed in a future version. Use isinstance(dtype, CategoricalDtype) instead\n",
      "  if pd.api.types.is_categorical_dtype(vector):\n",
      "C:\\Users\\addis\\AppData\\Local\\Packages\\PythonSoftwareFoundation.Python.3.11_qbz5n2kfra8p0\\LocalCache\\local-packages\\Python311\\site-packages\\seaborn\\_oldcore.py:1498: FutureWarning: is_categorical_dtype is deprecated and will be removed in a future version. Use isinstance(dtype, CategoricalDtype) instead\n",
      "  if pd.api.types.is_categorical_dtype(vector):\n",
      "C:\\Users\\addis\\AppData\\Local\\Packages\\PythonSoftwareFoundation.Python.3.11_qbz5n2kfra8p0\\LocalCache\\local-packages\\Python311\\site-packages\\seaborn\\_oldcore.py:1498: FutureWarning: is_categorical_dtype is deprecated and will be removed in a future version. Use isinstance(dtype, CategoricalDtype) instead\n",
      "  if pd.api.types.is_categorical_dtype(vector):\n"
     ]
    },
    {
     "data": {
      "image/png": "[encoded data removed]",
      "text/plain": [
       "<Figure size 640x480 with 1 Axes>"
      ]
     },
     "metadata": {},
     "output_type": "display_data"
    }
   ],
   "source": [
    "#calculate the frequency of each standarized HPER rating\n",
    "values, frequencies = np.unique(HPERScore, return_counts=True)\n",
    "\n",
    "\n",
    "#Frequency Graph\n",
    "sns.set_style('whitegrid')  # default is white with no grid\n",
    "\n",
    "# create and display the bar plot\n",
    "axes = sns.barplot(x=values, y=frequencies, palette='bright')\n",
    "\n",
    "# set the title of the plot\n",
    "title = 'Frequencies of Standarized HPER Ratings'\n",
    "axes.set_title(title)\n",
    "\n",
    "# label the axes\n",
    "labels = axes.set(xlabel='Score', ylabel='Frequency')  "
   ]
  },
  {
   "cell_type": "markdown",
   "metadata": {},
   "source": [
    "### <span style=\"color:red\">Task 8</span>\n",
    "Data Analysis and Reporting: Use a ** function** from the `statistics` package (which is functinally a reduction) to report the average of each of the three surveys **(use the new lists that you created in above tasks)**.  Make the results readable by prefacing each with a label and ensuring that the results are formatted with two decimal points.\n"
   ]
  },
  {
   "cell_type": "code",
   "execution_count": 17,
   "metadata": {},
   "outputs": [
    {
     "name": "stdout",
     "output_type": "stream",
     "text": [
      "The average for Food Quality Ratings is 33.00\n",
      "The average for Standard Heallth Ratings is 30.00\n",
      "The average for Standarized HPER Ratings is 39.09\n"
     ]
    }
   ],
   "source": [
    "import statistics as stat\n",
    "\n",
    "#Calculate the mean\n",
    "foodMean = stat.mean(finalFood)\n",
    "healthMean = stat.mean(filteredHealth)\n",
    "HPERMean = stat.mean(HPERScore)\n",
    "\n",
    "#Output\n",
    "print(\"The average for Food Quality Ratings is\", '%.2f'%foodMean)\n",
    "print(\"The average for Standard Heallth Ratings is\", '%.2f'%healthMean)\n",
    "print(\"The average for Standarized HPER Ratings is\", '%.2f'%HPERMean)"
   ]
  },
  {
   "cell_type": "markdown",
   "metadata": {},
   "source": [
    "<p style=\"font-size:120%;color:navy;background:linen;padding:10px;text-align:center\">&copy; Copyright 2022 by Michelle Talley <br> <br>You may not publish this notebook on any website or share it with anyone without explicit permission of the author. </p>\n"
   ]
  }
 ],
 "metadata": {
  "kernelspec": {
   "display_name": "Python 3 (ipykernel)",
   "language": "python",
   "name": "python3"
  },
  "language_info": {
   "codemirror_mode": {
    "name": "ipython",
    "version": 3
   },
   "file_extension": ".py",
   "mimetype": "text/x-python",
   "name": "python",
   "nbconvert_exporter": "python",
   "pygments_lexer": "ipython3",
   "version": "3.11.6"
  }
 },
 "nbformat": 4,
 "nbformat_minor": 4
}
