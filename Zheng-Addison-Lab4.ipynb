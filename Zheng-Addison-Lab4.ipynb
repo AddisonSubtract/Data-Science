{
 "cells": [
  {
   "cell_type": "markdown",
   "metadata": {},
   "source": [
    "# Notebook by Addison Zheng"
   ]
  },
  {
   "cell_type": "markdown",
   "metadata": {},
   "source": [
    "### Lab - Dictionaries"
   ]
  },
  {
   "cell_type": "markdown",
   "metadata": {},
   "source": [
    "### <span style=\"color:red\">Task</span>\n",
    "\n",
    "Build a dictionary that maps country names to Internet top-level domains (TLDs). Initialize the dictionary with the following values:\n",
    "    \n",
    "|Country Name|Internet Top Level Domain|\n",
    "|------------|-------------------------|\n",
    "|Afghanistan|af|\n",
    "|Australia|au|\n",
    "|Barbados|bb|\n",
    "|Brazil|br|\n",
    "|Costa Rica|cr|\n",
    "|Egypt|ec|\n",
    "|Guam|gu|\n",
    "|Ireland|ie|\n",
    "|Madagascar|mg|\n",
    "|Mexico|mx|\n",
    "|Nigeria|ng|\n",
    "|Sweden|se|\n",
    "|United States|us|\n",
    "|Canada|ca|"
   ]
  },
  {
   "cell_type": "code",
   "execution_count": 7,
   "metadata": {},
   "outputs": [
    {
     "data": {
      "text/plain": [
       "{'Afghanistan': 'af',\n",
       " 'Australia': 'au',\n",
       " 'Barbados': 'bb',\n",
       " 'Brazil': 'br',\n",
       " 'Costa Rica': 'cr',\n",
       " 'Egypt': 'ec',\n",
       " 'Guam': 'gu',\n",
       " 'Ireland': 'ie',\n",
       " 'Madagascar': 'mg',\n",
       " 'Mexico': 'mx',\n",
       " 'Nigeria': 'ng',\n",
       " 'Sweden': 'se',\n",
       " 'United States': 'us',\n",
       " 'Canada': 'ca'}"
      ]
     },
     "execution_count": 7,
     "metadata": {},
     "output_type": "execute_result"
    }
   ],
   "source": [
    "country_codes = {'Afghanistan': 'af', 'Australia': 'au', 'Barbados': 'bb', 'Brazil': 'br', 'Costa Rica': 'cr',\n",
    "                 'Egypt': 'ec', 'Guam': 'gu', 'Ireland': 'ie', 'Madagascar': 'mg', 'Mexico': 'mx', 'Nigeria': 'ng',\n",
    "                 'Sweden': 'se', 'United States': 'us', 'Canada': 'ca', }\n",
    "country_codes"
   ]
  },
  {
   "cell_type": "markdown",
   "metadata": {},
   "source": [
    "### <span style=\"color:red\">Task</span>\n",
    "\n",
    "Add new entries to the existing dictionary    \n",
    "\n",
    "|Country Name|Internet Top Level Domain|\n",
    "|------------|-------------------------|\n",
    "|Uruguay|uy|\n",
    "|Zambia|zm|\n",
    "|Thailand|th|"
   ]
  },
  {
   "cell_type": "code",
   "execution_count": 8,
   "metadata": {},
   "outputs": [
    {
     "data": {
      "text/plain": [
       "{'Afghanistan': 'af',\n",
       " 'Australia': 'au',\n",
       " 'Barbados': 'bb',\n",
       " 'Brazil': 'br',\n",
       " 'Costa Rica': 'cr',\n",
       " 'Egypt': 'ec',\n",
       " 'Guam': 'gu',\n",
       " 'Ireland': 'ie',\n",
       " 'Madagascar': 'mg',\n",
       " 'Mexico': 'mx',\n",
       " 'Nigeria': 'ng',\n",
       " 'Sweden': 'se',\n",
       " 'United States': 'us',\n",
       " 'Canada': 'ca',\n",
       " 'Uruguay': 'uy',\n",
       " 'Zambia': 'zm',\n",
       " 'Thailand': 'th'}"
      ]
     },
     "execution_count": 8,
     "metadata": {},
     "output_type": "execute_result"
    }
   ],
   "source": [
    "country_codes['Uruguay'] = 'uy'\n",
    "country_codes['Zambia'] = 'zm'\n",
    "country_codes['Thailand'] = 'th'\n",
    "country_codes"
   ]
  },
  {
   "cell_type": "markdown",
   "metadata": {},
   "source": [
    "### <span style=\"color:red\">Task</span>\n",
    "* check to see if Guam exists in the list and report the result\n",
    "* check to see if France exists in the list and report the result\n",
    "* add a new key value pair for Turkey with the value tx\n",
    "* update the value for Turkey to tr\n",
    "* use the get method to retrieve the value for Switzerland, but use the second parameter to return \"Switzerland not found\" if the value is not found in the dictionary\n"
   ]
  },
  {
   "cell_type": "code",
   "execution_count": 9,
   "metadata": {},
   "outputs": [
    {
     "name": "stdout",
     "output_type": "stream",
     "text": [
      "Is Guam in the dictionary: True\n",
      "Is France NOT in the dictionary: True\n"
     ]
    }
   ],
   "source": [
    "# Check if Guam exists\n",
    "print(\"Is Guam in the dictionary:\",'Guam' in country_codes)\n",
    "# Check if France exists\n",
    "print(\"Is France NOT in the dictionary:\",'France' not in country_codes)"
   ]
  },
  {
   "cell_type": "code",
   "execution_count": 10,
   "metadata": {},
   "outputs": [
    {
     "data": {
      "text/plain": [
       "{'Afghanistan': 'af',\n",
       " 'Australia': 'au',\n",
       " 'Barbados': 'bb',\n",
       " 'Brazil': 'br',\n",
       " 'Costa Rica': 'cr',\n",
       " 'Egypt': 'ec',\n",
       " 'Guam': 'gu',\n",
       " 'Ireland': 'ie',\n",
       " 'Madagascar': 'mg',\n",
       " 'Mexico': 'mx',\n",
       " 'Nigeria': 'ng',\n",
       " 'Sweden': 'se',\n",
       " 'United States': 'us',\n",
       " 'Canada': 'ca',\n",
       " 'Uruguay': 'uy',\n",
       " 'Zambia': 'zm',\n",
       " 'Thailand': 'th',\n",
       " 'Turkey': 'tx'}"
      ]
     },
     "execution_count": 10,
     "metadata": {},
     "output_type": "execute_result"
    }
   ],
   "source": [
    "\n",
    "# Adding new key value pair for Turkey with thee value tx\n",
    "country_codes['Turkey'] = 'tx'\n",
    "country_codes\n"
   ]
  },
  {
   "cell_type": "code",
   "execution_count": 11,
   "metadata": {},
   "outputs": [
    {
     "data": {
      "text/plain": [
       "{'Afghanistan': 'af',\n",
       " 'Australia': 'au',\n",
       " 'Barbados': 'bb',\n",
       " 'Brazil': 'br',\n",
       " 'Costa Rica': 'cr',\n",
       " 'Egypt': 'ec',\n",
       " 'Guam': 'gu',\n",
       " 'Ireland': 'ie',\n",
       " 'Madagascar': 'mg',\n",
       " 'Mexico': 'mx',\n",
       " 'Nigeria': 'ng',\n",
       " 'Sweden': 'se',\n",
       " 'United States': 'us',\n",
       " 'Canada': 'ca',\n",
       " 'Uruguay': 'uy',\n",
       " 'Zambia': 'zm',\n",
       " 'Thailand': 'th',\n",
       " 'Turkey': 'tr'}"
      ]
     },
     "execution_count": 11,
     "metadata": {},
     "output_type": "execute_result"
    }
   ],
   "source": [
    "# Update the value for Turkey to tr\n",
    "country_codes['Turkey'] = 'tr'\n",
    "country_codes"
   ]
  },
  {
   "cell_type": "code",
   "execution_count": 12,
   "metadata": {},
   "outputs": [
    {
     "data": {
      "text/plain": [
       "'Switzerland not found'"
      ]
     },
     "execution_count": 12,
     "metadata": {},
     "output_type": "execute_result"
    }
   ],
   "source": [
    "#use the get method to retrieve the value for Switzerland, but use the second parameter to return \"Switzerland not found\" if the value is not found in the dictionary\n",
    "country_codes.get('Switzerland', 'Switzerland not found')"
   ]
  },
  {
   "cell_type": "code",
   "execution_count": 13,
   "metadata": {},
   "outputs": [
    {
     "data": {
      "text/plain": [
       "'Switzerland not found'"
      ]
     },
     "execution_count": 13,
     "metadata": {},
     "output_type": "execute_result"
    }
   ],
   "source": [
    "\n",
    "# Update the value for Turkey to tr\n",
    "country_codes['Turkey'] = 'tr'\n",
    "country_codes\n",
    "\n",
    "#use the get method to retrieve the value for Switzerland, but use the second parameter to return \"Switzerland not found\" if the value is not found in the dictionary\n",
    "country_codes.get('Switzerland', 'Switzerland not found')"
   ]
  },
  {
   "cell_type": "markdown",
   "metadata": {},
   "source": [
    "### <span style=\"color:red\">Task</span>\n",
    "* Iterate through the key–value pairs and display them in two-column format\n",
    "* print the number of countries represented in the dictionary"
   ]
  },
  {
   "cell_type": "code",
   "execution_count": 14,
   "metadata": {},
   "outputs": [
    {
     "name": "stdout",
     "output_type": "stream",
     "text": [
      "Afghanistan, af\n",
      "Australia, au\n",
      "Barbados, bb\n",
      "Brazil, br\n",
      "Costa Rica, cr\n",
      "Egypt, ec\n",
      "Guam, gu\n",
      "Ireland, ie\n",
      "Madagascar, mg\n",
      "Mexico, mx\n",
      "Nigeria, ng\n",
      "Sweden, se\n",
      "United States, us\n",
      "Canada, ca\n",
      "Uruguay, uy\n",
      "Zambia, zm\n",
      "Thailand, th\n",
      "Turkey, tr\n"
     ]
    }
   ],
   "source": [
    "# Display key-value pairs in two-column format\n",
    "for country, code in country_codes.items():\n",
    "    print(f'{country}, {code}')"
   ]
  },
  {
   "cell_type": "code",
   "execution_count": 15,
   "metadata": {},
   "outputs": [
    {
     "name": "stdout",
     "output_type": "stream",
     "text": [
      "There are 18 country codes\n"
     ]
    }
   ],
   "source": [
    "# Print the number of countries represented in the dictionary\n",
    "print(\"There are\", len(country_codes), \"country codes\")"
   ]
  },
  {
   "cell_type": "markdown",
   "metadata": {},
   "source": [
    "### <span style=\"color:red\">Task</span>\n",
    "* Use a dictionary comprehension to reverse the keys and values.\n",
    "* Iterate through the new key-value pair and display in a two-column format"
   ]
  },
  {
   "cell_type": "code",
   "execution_count": 16,
   "metadata": {},
   "outputs": [
    {
     "data": {
      "text/plain": [
       "[('af', 'Afghanistan'),\n",
       " ('au', 'Australia'),\n",
       " ('bb', 'Barbados'),\n",
       " ('br', 'Brazil'),\n",
       " ('cr', 'Costa Rica'),\n",
       " ('ec', 'Egypt'),\n",
       " ('gu', 'Guam'),\n",
       " ('ie', 'Ireland'),\n",
       " ('mg', 'Madagascar'),\n",
       " ('mx', 'Mexico'),\n",
       " ('ng', 'Nigeria'),\n",
       " ('se', 'Sweden'),\n",
       " ('us', 'United States'),\n",
       " ('ca', 'Canada'),\n",
       " ('uy', 'Uruguay'),\n",
       " ('zm', 'Zambia'),\n",
       " ('th', 'Thailand'),\n",
       " ('tr', 'Turkey')]"
      ]
     },
     "execution_count": 16,
     "metadata": {},
     "output_type": "execute_result"
    }
   ],
   "source": [
    "# Reversed the keys and values.\n",
    "country_codes2 = {code: name for name, code in country_codes.items()}\n",
    "# Display key-value pairs in two-column format\n",
    "list(country_codes2.items())"
   ]
  },
  {
   "cell_type": "markdown",
   "metadata": {},
   "source": [
    "### <span style=\"color:red\">Task</span>\n",
    "* With the results from the previous task, use a dictionary comprehension to convert the country names to all uppercase letters.\n",
    "* Print the resulting country names in a one column format"
   ]
  },
  {
   "cell_type": "code",
   "execution_count": 17,
   "metadata": {},
   "outputs": [
    {
     "name": "stdout",
     "output_type": "stream",
     "text": [
      "af, AFGHANISTAN\n",
      "au, AUSTRALIA\n",
      "bb, BARBADOS\n",
      "br, BRAZIL\n",
      "cr, COSTA RICA\n",
      "ec, EGYPT\n",
      "gu, GUAM\n",
      "ie, IRELAND\n",
      "mg, MADAGASCAR\n",
      "mx, MEXICO\n",
      "ng, NIGERIA\n",
      "se, SWEDEN\n",
      "us, UNITED STATES\n",
      "ca, CANADA\n",
      "uy, URUGUAY\n",
      "zm, ZAMBIA\n",
      "th, THAILAND\n",
      "tr, TURKEY\n"
     ]
    }
   ],
   "source": [
    "# Convert the country Names to all uppercase letters\n",
    "country_codes2 = {code: name.upper() for name, code in country_codes.items()}\n",
    "for country, code in country_codes2.items():\n",
    "    print(f'{country}, {code}')"
   ]
  }
 ],
 "metadata": {
  "kernelspec": {
   "display_name": "Python 3 (ipykernel)",
   "language": "python",
   "name": "python3"
  },
  "language_info": {
   "codemirror_mode": {
    "name": "ipython",
    "version": 3
   },
   "file_extension": ".py",
   "mimetype": "text/x-python",
   "name": "python",
   "nbconvert_exporter": "python",
   "pygments_lexer": "ipython3",
   "version": "3.11.7"
  }
 },
 "nbformat": 4,
 "nbformat_minor": 4
}
