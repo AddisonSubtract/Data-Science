{
 "cells": [
  {
   "cell_type": "markdown",
   "id": "younger-steps",
   "metadata": {},
   "source": [
    "### NumPy Lab"
   ]
  },
  {
   "cell_type": "markdown",
   "id": "aggressive-savage",
   "metadata": {},
   "source": [
    "Name: Addison Zheng"
   ]
  },
  {
   "cell_type": "markdown",
   "id": "descending-sending",
   "metadata": {},
   "source": [
    "### <span style=\"color:red\">Task 1</span>\n",
    "\n",
    "Use the appropriate NumPy methods to do the following: Fill a 2-by-3 array with ones, a 3-by-3 array with zeros and a 2-by-5 array with 5s. Display each array."
   ]
  },
  {
   "cell_type": "code",
   "execution_count": 10,
   "metadata": {},
   "outputs": [
    {
     "name": "stdout",
     "output_type": "stream",
     "text": [
      "array2x3: [[1. 1. 1.]\n",
      " [1. 1. 1.]]\n",
      "array3x3: [[0. 0. 0.]\n",
      " [0. 0. 0.]\n",
      " [0. 0. 0.]]\n",
      "array2x5: [[5 5 5 5 5]\n",
      " [5 5 5 5 5]]\n"
     ]
    }
   ],
   "source": [
    "import numpy as np\n",
    "\n",
    "array2x3 = np.ones((2,3))\n",
    "array3x3 = np.zeros((3,3))\n",
    "array2x5 = np.full((2,5),5)\n",
    "\n",
    "print('array2x3:',array2x3)\n",
    "print('array3x3:',array3x3)\n",
    "print('array2x5:',array2x5)"
   ]
  },
  {
   "cell_type": "markdown",
   "id": "840caf24-6351-446d-b0ae-37b78c14c02a",
   "metadata": {
    "tags": []
   },
   "source": [
    "### <span style=\"color:red\">Task 2</span>\n",
    "\n",
    "Use arange to create an array containing the values 1-15, reshape it into a 3 by 5 array, then use indexing and slicing techniques to perform each of the following operations :\n",
    "* Select and display the 3rd row\n",
    "* Select and display the 4th column\n",
    "* Select and display the first and second row.\n",
    "* Select and display the 2nd column up to and including the 4th column\n",
    "* Select and display the element that is in the 2nd row and the 4th column\n",
    "* Select and display all the elements from the 1st and 2nd row and the first column, the 3rd column, and the 5th column.\n",
    "\n",
    "Remember, rows and columns start indexing at 0.  When asked to display the 2nd row, you should display the row with the index of 1. The same applies to columns.\n"
   ]
  },
  {
   "cell_type": "code",
   "execution_count": 35,
   "metadata": {},
   "outputs": [
    {
     "name": "stdout",
     "output_type": "stream",
     "text": [
      "[[ 1  2  3  4  5]\n",
      " [ 6  7  8  9 10]\n",
      " [11 12 13 14 15]] \n",
      "\n",
      "3rd row\n",
      " [11 12 13 14 15]\n",
      "4th column\n",
      " [ 4  9 14]\n",
      "1st & 2nd row\n",
      " [[ 1  2  3  4  5]\n",
      " [ 6  7  8  9 10]]\n",
      "2nd-4th col\n",
      " [[ 2  3  4]\n",
      " [ 7  8  9]\n",
      " [12 13 14]]\n",
      "1st & 2nd row\n",
      " [[ 1  2  3  4  5]\n",
      " [ 6  7  8  9 10]] \n",
      "1st col\n",
      " [ 1  6 11] \n",
      "3rd col\n",
      " [ 3  8 13] \n",
      "5th col\n",
      " [ 5 10 15]\n"
     ]
    }
   ],
   "source": [
    "array3x5 = np.arange(1,16).reshape(3,5)\n",
    "print(array3x5,'\\n')\n",
    "\n",
    "print('3rd row\\n', array3x5[2])\n",
    "print('4th column\\n', array3x5[:, 3])\n",
    "print('1st & 2nd row\\n', array3x5[0:2])\n",
    "print('2nd-4th col\\n', array3x5[:,1:4])\n",
    "print('1st & 2nd row\\n', array3x5[0:2], '\\n1st col\\n',array3x5[:, 0], '\\n3rd col\\n',array3x5[:, 2], '\\n5th col\\n',array3x5[:, 4])"
   ]
  },
  {
   "cell_type": "markdown",
   "id": "inclusive-printer",
   "metadata": {},
   "source": [
    "### <span style=\"color:red\">Task 3</span>\n",
    "\n",
    "Use arange to create a 2-by-2 array containing the numbers 0–3. Use **broadcasting** to perform each of the following operations on the **original** array :\n",
    "\n",
    "* Square every element of the array.\n",
    "\n",
    "* Add 6 to every element of the array.\n",
    "\n",
    "* Multiply every element of the array by 3.\n",
    "\n",
    "Make sure you display the results."
   ]
  },
  {
   "cell_type": "code",
   "execution_count": 42,
   "metadata": {},
   "outputs": [
    {
     "name": "stdout",
     "output_type": "stream",
     "text": [
      "orig\n",
      " [[0 1]\n",
      " [2 3]]\n",
      "**2\n",
      " [[0 1]\n",
      " [4 9]]\n",
      "+6\n",
      " [[6 7]\n",
      " [8 9]]\n",
      "*3\n",
      " [[0 3]\n",
      " [6 9]]\n"
     ]
    }
   ],
   "source": [
    "array2x2 = np.arange(0,4).reshape(2,2)\n",
    "print('orig\\n', array2x2)\n",
    "print('**2\\n',array2x2 ** 2)\n",
    "print('+6\\n', array2x2 + 6)\n",
    "print('*3\\n', array2x2 * 3)"
   ]
  },
  {
   "cell_type": "markdown",
   "id": "c0fe1f88-9cbd-4203-af06-31e08d1e4496",
   "metadata": {},
   "source": [
    "### <span style=\"color:red\">Task 4</span> \n",
    "\n",
    "Use arange to create a 3-by-3 array containing the even integers from 2 through 18. Use arange to create a second 3-by-3 array containing the integers from 9 down to 1, then multiply the first array by the second."
   ]
  },
  {
   "cell_type": "code",
   "execution_count": 52,
   "id": "527d667a-8424-45da-865c-40c1e2b83068",
   "metadata": {},
   "outputs": [
    {
     "name": "stdout",
     "output_type": "stream",
     "text": [
      "Array 1\n",
      " [[ 2  4  6]\n",
      " [ 8 10 12]\n",
      " [14 16 18]]\n",
      "Array 2\n",
      " [[9 8 7]\n",
      " [6 5 4]\n",
      " [3 2 1]]\n",
      "Array 3\n",
      " [[18 32 42]\n",
      " [48 50 48]\n",
      " [42 32 18]]\n"
     ]
    }
   ],
   "source": [
    "array3x3_1 = np.arange(2,19, 2).reshape(3,3)\n",
    "array3x3_2 = np.arange(9,0, -1).reshape(3,3)\n",
    "print('Array 1\\n', array3x3_1)\n",
    "print('Array 2\\n', array3x3_2)\n",
    "\n",
    "print('Array 3\\n', array3x3_1 * array3x3_2)"
   ]
  },
  {
   "cell_type": "markdown",
   "id": "03879ed2-cfe9-4690-b96f-2d2e172b3644",
   "metadata": {
    "tags": []
   },
   "source": [
    "### <span style=\"color:red\">Task 5</span> \n",
    " \n",
    "Use a list comprehenstion to create a 2-by-3 array containing the first six powers of 2 beginning with 2<sup>0</sup>. Flatten the array first with method ```flatten```, then with ```ravel```. In each case, display the result then display the original array to show that it was unmodified.\n",
    "\n",
    "<span style =\"color:red\">Answer this question in markdown: What is the difference between flatten and ravel?"
   ]
  },
  {
   "cell_type": "markdown",
   "metadata": {},
   "source": [
    "Flatten creates a 1-d copy of the original array while ravel trys to create a 1-d view of the original matrix"
   ]
  }
 ],
 "metadata": {
  "kernelspec": {
   "display_name": "Python 3 (ipykernel)",
   "language": "python",
   "name": "python3"
  },
  "language_info": {
   "codemirror_mode": {
    "name": "ipython",
    "version": 3
   },
   "file_extension": ".py",
   "mimetype": "text/x-python",
   "name": "python",
   "nbconvert_exporter": "python",
   "pygments_lexer": "ipython3",
   "version": "3.11.7"
  }
 },
 "nbformat": 4,
 "nbformat_minor": 5
}
